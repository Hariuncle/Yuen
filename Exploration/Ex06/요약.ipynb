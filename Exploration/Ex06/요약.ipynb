{
 "cells": [
  {
   "cell_type": "markdown",
   "metadata": {
    "id": "ZNTtu_DLSMdG"
   },
   "source": [
    "#데이터준비"
   ]
  },
  {
   "cell_type": "code",
   "execution_count": 1,
   "metadata": {
    "colab": {
     "base_uri": "https://localhost:8080/"
    },
    "id": "8ltTlEyXQW3x",
    "outputId": "490f8af8-05f2-42a9-a8f6-2d011104abd1"
   },
   "outputs": [
    {
     "name": "stderr",
     "output_type": "stream",
     "text": [
      "[nltk_data] Downloading package stopwords to /aiffel/nltk_data...\n",
      "[nltk_data]   Unzipping corpora/stopwords.zip.\n"
     ]
    },
    {
     "name": "stdout",
     "output_type": "stream",
     "text": [
      "=3\n"
     ]
    }
   ],
   "source": [
    "import nltk\n",
    "nltk.download('stopwords')\n",
    "\n",
    "import numpy as np\n",
    "import pandas as pd\n",
    "import os\n",
    "import re\n",
    "import matplotlib.pyplot as plt\n",
    "from nltk.corpus import stopwords\n",
    "from bs4 import BeautifulSoup\n",
    "from tensorflow.keras.preprocessing.text import Tokenizer\n",
    "from tensorflow.keras.preprocessing.sequence import pad_sequences\n",
    "import urllib.request\n",
    "import warnings\n",
    "warnings.filterwarnings(\"ignore\", category=UserWarning, module='bs4')\n",
    "\n",
    "print('=3')"
   ]
  },
  {
   "cell_type": "code",
   "execution_count": 2,
   "metadata": {
    "colab": {
     "base_uri": "https://localhost:8080/"
    },
    "id": "TinSAzzuQ2rD",
    "outputId": "29fd40d4-5059-44ab-c2b4-ef69a6015ed8"
   },
   "outputs": [
    {
     "name": "stdout",
     "output_type": "stream",
     "text": [
      "전체 샘플수 : 98401\n"
     ]
    }
   ],
   "source": [
    "import urllib.request\n",
    "urllib.request.urlretrieve(\"https://raw.githubusercontent.com/sunnysai12345/News_Summary/master/news_summary_more.csv\", filename=\"news_summary_more.csv\")\n",
    "data = pd.read_csv('news_summary_more.csv', encoding='iso-8859-1')\n",
    "print('전체 샘플수 :', (len(data)))"
   ]
  },
  {
   "cell_type": "code",
   "execution_count": 3,
   "metadata": {
    "colab": {
     "base_uri": "https://localhost:8080/",
     "height": 206
    },
    "id": "Zfr9jyt-Q5q2",
    "outputId": "29cb4c13-68bb-4783-8188-f7db0ca0681c"
   },
   "outputs": [
    {
     "data": {
      "text/html": [
       "<div>\n",
       "<style scoped>\n",
       "    .dataframe tbody tr th:only-of-type {\n",
       "        vertical-align: middle;\n",
       "    }\n",
       "\n",
       "    .dataframe tbody tr th {\n",
       "        vertical-align: top;\n",
       "    }\n",
       "\n",
       "    .dataframe thead th {\n",
       "        text-align: right;\n",
       "    }\n",
       "</style>\n",
       "<table border=\"1\" class=\"dataframe\">\n",
       "  <thead>\n",
       "    <tr style=\"text-align: right;\">\n",
       "      <th></th>\n",
       "      <th>headlines</th>\n",
       "      <th>text</th>\n",
       "    </tr>\n",
       "  </thead>\n",
       "  <tbody>\n",
       "    <tr>\n",
       "      <th>0</th>\n",
       "      <td>upGrad learner switches to career in ML &amp; Al w...</td>\n",
       "      <td>Saurav Kant, an alumnus of upGrad and IIIT-B's...</td>\n",
       "    </tr>\n",
       "    <tr>\n",
       "      <th>1</th>\n",
       "      <td>Delhi techie wins free food from Swiggy for on...</td>\n",
       "      <td>Kunal Shah's credit card bill payment platform...</td>\n",
       "    </tr>\n",
       "    <tr>\n",
       "      <th>2</th>\n",
       "      <td>New Zealand end Rohit Sharma-led India's 12-ma...</td>\n",
       "      <td>New Zealand defeated India by 8 wickets in the...</td>\n",
       "    </tr>\n",
       "    <tr>\n",
       "      <th>3</th>\n",
       "      <td>Aegon life iTerm insurance plan helps customer...</td>\n",
       "      <td>With Aegon Life iTerm Insurance plan, customer...</td>\n",
       "    </tr>\n",
       "    <tr>\n",
       "      <th>4</th>\n",
       "      <td>Have known Hirani for yrs, what if MeToo claim...</td>\n",
       "      <td>Speaking about the sexual harassment allegatio...</td>\n",
       "    </tr>\n",
       "  </tbody>\n",
       "</table>\n",
       "</div>"
      ],
      "text/plain": [
       "                                           headlines  \\\n",
       "0  upGrad learner switches to career in ML & Al w...   \n",
       "1  Delhi techie wins free food from Swiggy for on...   \n",
       "2  New Zealand end Rohit Sharma-led India's 12-ma...   \n",
       "3  Aegon life iTerm insurance plan helps customer...   \n",
       "4  Have known Hirani for yrs, what if MeToo claim...   \n",
       "\n",
       "                                                text  \n",
       "0  Saurav Kant, an alumnus of upGrad and IIIT-B's...  \n",
       "1  Kunal Shah's credit card bill payment platform...  \n",
       "2  New Zealand defeated India by 8 wickets in the...  \n",
       "3  With Aegon Life iTerm Insurance plan, customer...  \n",
       "4  Speaking about the sexual harassment allegatio...  "
      ]
     },
     "execution_count": 3,
     "metadata": {},
     "output_type": "execute_result"
    }
   ],
   "source": [
    "data.head()"
   ]
  },
  {
   "cell_type": "code",
   "execution_count": 4,
   "metadata": {
    "colab": {
     "base_uri": "https://localhost:8080/",
     "height": 520
    },
    "id": "8Ktj6b4hQ5pU",
    "outputId": "990a8ed9-22ae-4f9f-b220-486fae0f9b69"
   },
   "outputs": [
    {
     "data": {
      "text/html": [
       "<div>\n",
       "<style scoped>\n",
       "    .dataframe tbody tr th:only-of-type {\n",
       "        vertical-align: middle;\n",
       "    }\n",
       "\n",
       "    .dataframe tbody tr th {\n",
       "        vertical-align: top;\n",
       "    }\n",
       "\n",
       "    .dataframe thead th {\n",
       "        text-align: right;\n",
       "    }\n",
       "</style>\n",
       "<table border=\"1\" class=\"dataframe\">\n",
       "  <thead>\n",
       "    <tr style=\"text-align: right;\">\n",
       "      <th></th>\n",
       "      <th>text</th>\n",
       "      <th>headlines</th>\n",
       "    </tr>\n",
       "  </thead>\n",
       "  <tbody>\n",
       "    <tr>\n",
       "      <th>27864</th>\n",
       "      <td>Priyanka Chopra has said that women should foc...</td>\n",
       "      <td>Love yourself ladies, you are your best friend...</td>\n",
       "    </tr>\n",
       "    <tr>\n",
       "      <th>59568</th>\n",
       "      <td>A possible explosion has been detected near th...</td>\n",
       "      <td>Blast detected near missing Argentine vessel's...</td>\n",
       "    </tr>\n",
       "    <tr>\n",
       "      <th>17466</th>\n",
       "      <td>World's richest person and Amazon Founder, Jef...</td>\n",
       "      <td>Jeff Bezos launches $2 bn fund for homeless, p...</td>\n",
       "    </tr>\n",
       "    <tr>\n",
       "      <th>14135</th>\n",
       "      <td>Responding to reports of Uttar Pradesh and Bih...</td>\n",
       "      <td>Bihar migrants moving out of Guj for Chhath Pu...</td>\n",
       "    </tr>\n",
       "    <tr>\n",
       "      <th>591</th>\n",
       "      <td>'Manikarnika' co-director Krish, while speakin...</td>\n",
       "      <td>Kangana said my Manikarnika version looked lik...</td>\n",
       "    </tr>\n",
       "    <tr>\n",
       "      <th>64081</th>\n",
       "      <td>US-based fintech startup Current has raised $5...</td>\n",
       "      <td>Startup raises $5mn for app-controlled debit c...</td>\n",
       "    </tr>\n",
       "    <tr>\n",
       "      <th>54003</th>\n",
       "      <td>Maharashtra CM Devendra Fadnavis has ordered a...</td>\n",
       "      <td>Maha CM orders judicial inquiry into Bhima Kor...</td>\n",
       "    </tr>\n",
       "    <tr>\n",
       "      <th>19538</th>\n",
       "      <td>Jain Muni Vishrant Sagar on Wednesday referred...</td>\n",
       "      <td>Women responsible for 95% crimes against them:...</td>\n",
       "    </tr>\n",
       "    <tr>\n",
       "      <th>78545</th>\n",
       "      <td>Food regulator FSSAI has banned the use of sta...</td>\n",
       "      <td>FSSAI bans use of staple pins in tea bags from...</td>\n",
       "    </tr>\n",
       "    <tr>\n",
       "      <th>42680</th>\n",
       "      <td>Former Facebook Platform Operations Manager Sa...</td>\n",
       "      <td>Data harvesting was routine at Facebook: Ex-em...</td>\n",
       "    </tr>\n",
       "    <tr>\n",
       "      <th>18682</th>\n",
       "      <td>Neerja Bhanot, the flight attendant who lost h...</td>\n",
       "      <td>If you canÃ¢ÂÂt cook, don't eat: Neerja Bhan...</td>\n",
       "    </tr>\n",
       "    <tr>\n",
       "      <th>71809</th>\n",
       "      <td>After scoring his 30th ODI hundred, Virat Kohl...</td>\n",
       "      <td>Going to take hell of an effort to surpass Ten...</td>\n",
       "    </tr>\n",
       "    <tr>\n",
       "      <th>84921</th>\n",
       "      <td>A European Union (EU) law to abolish roaming c...</td>\n",
       "      <td>EU mobile roaming charges scrapped</td>\n",
       "    </tr>\n",
       "    <tr>\n",
       "      <th>45420</th>\n",
       "      <td>Salman Khan's Da-Bangg Tour in Nepal, which wa...</td>\n",
       "      <td>Salman's Da-Bangg tour in Nepal cancelled over...</td>\n",
       "    </tr>\n",
       "    <tr>\n",
       "      <th>28134</th>\n",
       "      <td>Kylie Jenner has featured in the TIME magazine...</td>\n",
       "      <td>Kylie among TIME's Most Influential People on ...</td>\n",
       "    </tr>\n",
       "  </tbody>\n",
       "</table>\n",
       "</div>"
      ],
      "text/plain": [
       "                                                    text  \\\n",
       "27864  Priyanka Chopra has said that women should foc...   \n",
       "59568  A possible explosion has been detected near th...   \n",
       "17466  World's richest person and Amazon Founder, Jef...   \n",
       "14135  Responding to reports of Uttar Pradesh and Bih...   \n",
       "591    'Manikarnika' co-director Krish, while speakin...   \n",
       "64081  US-based fintech startup Current has raised $5...   \n",
       "54003  Maharashtra CM Devendra Fadnavis has ordered a...   \n",
       "19538  Jain Muni Vishrant Sagar on Wednesday referred...   \n",
       "78545  Food regulator FSSAI has banned the use of sta...   \n",
       "42680  Former Facebook Platform Operations Manager Sa...   \n",
       "18682  Neerja Bhanot, the flight attendant who lost h...   \n",
       "71809  After scoring his 30th ODI hundred, Virat Kohl...   \n",
       "84921  A European Union (EU) law to abolish roaming c...   \n",
       "45420  Salman Khan's Da-Bangg Tour in Nepal, which wa...   \n",
       "28134  Kylie Jenner has featured in the TIME magazine...   \n",
       "\n",
       "                                               headlines  \n",
       "27864  Love yourself ladies, you are your best friend...  \n",
       "59568  Blast detected near missing Argentine vessel's...  \n",
       "17466  Jeff Bezos launches $2 bn fund for homeless, p...  \n",
       "14135  Bihar migrants moving out of Guj for Chhath Pu...  \n",
       "591    Kangana said my Manikarnika version looked lik...  \n",
       "64081  Startup raises $5mn for app-controlled debit c...  \n",
       "54003  Maha CM orders judicial inquiry into Bhima Kor...  \n",
       "19538  Women responsible for 95% crimes against them:...  \n",
       "78545  FSSAI bans use of staple pins in tea bags from...  \n",
       "42680  Data harvesting was routine at Facebook: Ex-em...  \n",
       "18682  If you canÃ¢ÂÂt cook, don't eat: Neerja Bhan...  \n",
       "71809  Going to take hell of an effort to surpass Ten...  \n",
       "84921                 EU mobile roaming charges scrapped  \n",
       "45420  Salman's Da-Bangg tour in Nepal cancelled over...  \n",
       "28134  Kylie among TIME's Most Influential People on ...  "
      ]
     },
     "execution_count": 4,
     "metadata": {},
     "output_type": "execute_result"
    }
   ],
   "source": [
    "data = data[['text','headlines']]\n",
    "data.head()\n",
    "\n",
    "#랜덤한 15개 샘플 출력\n",
    "data.sample(15)"
   ]
  },
  {
   "cell_type": "markdown",
   "metadata": {
    "id": "sd6N0G1jR5A2"
   },
   "source": [
    "# 중복 샘플과 NULL 값이 존재하는 샘플 제거"
   ]
  },
  {
   "cell_type": "code",
   "execution_count": 5,
   "metadata": {
    "colab": {
     "base_uri": "https://localhost:8080/"
    },
    "id": "LX8eveqaQ5m-",
    "outputId": "f3a01559-0f2d-40f3-80a7-5fda92b71b75"
   },
   "outputs": [
    {
     "name": "stdout",
     "output_type": "stream",
     "text": [
      "text 열에서 중복을 배제한 유일한 샘플의 수 : 98360\n",
      "headlines 열에서 중복을 배제한 유일한 샘플의 수 : 98280\n"
     ]
    }
   ],
   "source": [
    "print('text 열에서 중복을 배제한 유일한 샘플의 수 :', data['text'].nunique())\n",
    "print('headlines 열에서 중복을 배제한 유일한 샘플의 수 :', data['headlines'].nunique())"
   ]
  },
  {
   "cell_type": "code",
   "execution_count": 6,
   "metadata": {
    "colab": {
     "base_uri": "https://localhost:8080/"
    },
    "id": "bhbNfh81Q5lH",
    "outputId": "c159bfba-7cd1-4038-b23a-d44939591a02"
   },
   "outputs": [
    {
     "name": "stdout",
     "output_type": "stream",
     "text": [
      "전체 샘플수 : 98360\n"
     ]
    }
   ],
   "source": [
    "# inplace=True 를 설정하면 DataFrame 타입 값을 return 하지 않고 data 내부를 직접적으로 바꿉니다\n",
    "data.drop_duplicates(subset = ['text'], inplace=True)\n",
    "print('전체 샘플수 :', (len(data)))"
   ]
  },
  {
   "cell_type": "code",
   "execution_count": 7,
   "metadata": {
    "colab": {
     "base_uri": "https://localhost:8080/"
    },
    "id": "7vaoVBkEQ5fR",
    "outputId": "473df384-e1e3-495e-f1a1-6f00653fd06c"
   },
   "outputs": [
    {
     "name": "stdout",
     "output_type": "stream",
     "text": [
      "text         0\n",
      "headlines    0\n",
      "dtype: int64\n"
     ]
    }
   ],
   "source": [
    "print(data.isnull().sum())"
   ]
  },
  {
   "cell_type": "code",
   "execution_count": 8,
   "metadata": {
    "colab": {
     "base_uri": "https://localhost:8080/"
    },
    "id": "QdvVYwoNQ5Xo",
    "outputId": "548a156e-4954-4bdb-96e8-1cb1a4455859"
   },
   "outputs": [
    {
     "name": "stdout",
     "output_type": "stream",
     "text": [
      "전체 샘플수 : 98360\n"
     ]
    }
   ],
   "source": [
    "data.dropna(axis=0, inplace=True)\n",
    "print('전체 샘플수 :', (len(data)))"
   ]
  },
  {
   "cell_type": "markdown",
   "metadata": {
    "id": "Gn5secEhR-IK"
   },
   "source": [
    "#텍스트 정규화와 불용어 제거"
   ]
  },
  {
   "cell_type": "code",
   "execution_count": 9,
   "metadata": {
    "colab": {
     "base_uri": "https://localhost:8080/"
    },
    "id": "m2p4eaFzREsB",
    "outputId": "0ffece60-e32e-4231-b074-6fb8df6aface"
   },
   "outputs": [
    {
     "name": "stdout",
     "output_type": "stream",
     "text": [
      "정규화 사전의 수:  120\n"
     ]
    }
   ],
   "source": [
    "contractions = {\"ain't\": \"is not\", \"aren't\": \"are not\",\"can't\": \"cannot\", \"'cause\": \"because\", \"could've\": \"could have\", \"couldn't\": \"could not\",\n",
    "                           \"didn't\": \"did not\",  \"doesn't\": \"does not\", \"don't\": \"do not\", \"hadn't\": \"had not\", \"hasn't\": \"has not\", \"haven't\": \"have not\",\n",
    "                           \"he'd\": \"he would\",\"he'll\": \"he will\", \"he's\": \"he is\", \"how'd\": \"how did\", \"how'd'y\": \"how do you\", \"how'll\": \"how will\", \"how's\": \"how is\",\n",
    "                           \"I'd\": \"I would\", \"I'd've\": \"I would have\", \"I'll\": \"I will\", \"I'll've\": \"I will have\",\"I'm\": \"I am\", \"I've\": \"I have\", \"i'd\": \"i would\",\n",
    "                           \"i'd've\": \"i would have\", \"i'll\": \"i will\",  \"i'll've\": \"i will have\",\"i'm\": \"i am\", \"i've\": \"i have\", \"isn't\": \"is not\", \"it'd\": \"it would\",\n",
    "                           \"it'd've\": \"it would have\", \"it'll\": \"it will\", \"it'll've\": \"it will have\",\"it's\": \"it is\", \"let's\": \"let us\", \"ma'am\": \"madam\",\n",
    "                           \"mayn't\": \"may not\", \"might've\": \"might have\",\"mightn't\": \"might not\",\"mightn't've\": \"might not have\", \"must've\": \"must have\",\n",
    "                           \"mustn't\": \"must not\", \"mustn't've\": \"must not have\", \"needn't\": \"need not\", \"needn't've\": \"need not have\",\"o'clock\": \"of the clock\",\n",
    "                           \"oughtn't\": \"ought not\", \"oughtn't've\": \"ought not have\", \"shan't\": \"shall not\", \"sha'n't\": \"shall not\", \"shan't've\": \"shall not have\",\n",
    "                           \"she'd\": \"she would\", \"she'd've\": \"she would have\", \"she'll\": \"she will\", \"she'll've\": \"she will have\", \"she's\": \"she is\",\n",
    "                           \"should've\": \"should have\", \"shouldn't\": \"should not\", \"shouldn't've\": \"should not have\", \"so've\": \"so have\",\"so's\": \"so as\",\n",
    "                           \"this's\": \"this is\",\"that'd\": \"that would\", \"that'd've\": \"that would have\", \"that's\": \"that is\", \"there'd\": \"there would\",\n",
    "                           \"there'd've\": \"there would have\", \"there's\": \"there is\", \"here's\": \"here is\",\"they'd\": \"they would\", \"they'd've\": \"they would have\",\n",
    "                           \"they'll\": \"they will\", \"they'll've\": \"they will have\", \"they're\": \"they are\", \"they've\": \"they have\", \"to've\": \"to have\",\n",
    "                           \"wasn't\": \"was not\", \"we'd\": \"we would\", \"we'd've\": \"we would have\", \"we'll\": \"we will\", \"we'll've\": \"we will have\", \"we're\": \"we are\",\n",
    "                           \"we've\": \"we have\", \"weren't\": \"were not\", \"what'll\": \"what will\", \"what'll've\": \"what will have\", \"what're\": \"what are\",\n",
    "                           \"what's\": \"what is\", \"what've\": \"what have\", \"when's\": \"when is\", \"when've\": \"when have\", \"where'd\": \"where did\", \"where's\": \"where is\",\n",
    "                           \"where've\": \"where have\", \"who'll\": \"who will\", \"who'll've\": \"who will have\", \"who's\": \"who is\", \"who've\": \"who have\",\n",
    "                           \"why's\": \"why is\", \"why've\": \"why have\", \"will've\": \"will have\", \"won't\": \"will not\", \"won't've\": \"will not have\",\n",
    "                           \"would've\": \"would have\", \"wouldn't\": \"would not\", \"wouldn't've\": \"would not have\", \"y'all\": \"you all\",\n",
    "                           \"y'all'd\": \"you all would\",\"y'all'd've\": \"you all would have\",\"y'all're\": \"you all are\",\"y'all've\": \"you all have\",\n",
    "                           \"you'd\": \"you would\", \"you'd've\": \"you would have\", \"you'll\": \"you will\", \"you'll've\": \"you will have\",\n",
    "                           \"you're\": \"you are\", \"you've\": \"you have\"}\n",
    "\n",
    "print(\"정규화 사전의 수: \", len(contractions))"
   ]
  },
  {
   "cell_type": "code",
   "execution_count": 10,
   "metadata": {
    "colab": {
     "base_uri": "https://localhost:8080/"
    },
    "id": "MWaNMjw2REqO",
    "outputId": "27c4d240-7f34-43e2-ed3e-b2043c91957e"
   },
   "outputs": [
    {
     "name": "stdout",
     "output_type": "stream",
     "text": [
      "불용어 개수 : 179\n",
      "['i', 'me', 'my', 'myself', 'we', 'our', 'ours', 'ourselves', 'you', \"you're\", \"you've\", \"you'll\", \"you'd\", 'your', 'yours', 'yourself', 'yourselves', 'he', 'him', 'his', 'himself', 'she', \"she's\", 'her', 'hers', 'herself', 'it', \"it's\", 'its', 'itself', 'they', 'them', 'their', 'theirs', 'themselves', 'what', 'which', 'who', 'whom', 'this', 'that', \"that'll\", 'these', 'those', 'am', 'is', 'are', 'was', 'were', 'be', 'been', 'being', 'have', 'has', 'had', 'having', 'do', 'does', 'did', 'doing', 'a', 'an', 'the', 'and', 'but', 'if', 'or', 'because', 'as', 'until', 'while', 'of', 'at', 'by', 'for', 'with', 'about', 'against', 'between', 'into', 'through', 'during', 'before', 'after', 'above', 'below', 'to', 'from', 'up', 'down', 'in', 'out', 'on', 'off', 'over', 'under', 'again', 'further', 'then', 'once', 'here', 'there', 'when', 'where', 'why', 'how', 'all', 'any', 'both', 'each', 'few', 'more', 'most', 'other', 'some', 'such', 'no', 'nor', 'not', 'only', 'own', 'same', 'so', 'than', 'too', 'very', 's', 't', 'can', 'will', 'just', 'don', \"don't\", 'should', \"should've\", 'now', 'd', 'll', 'm', 'o', 're', 've', 'y', 'ain', 'aren', \"aren't\", 'couldn', \"couldn't\", 'didn', \"didn't\", 'doesn', \"doesn't\", 'hadn', \"hadn't\", 'hasn', \"hasn't\", 'haven', \"haven't\", 'isn', \"isn't\", 'ma', 'mightn', \"mightn't\", 'mustn', \"mustn't\", 'needn', \"needn't\", 'shan', \"shan't\", 'shouldn', \"shouldn't\", 'wasn', \"wasn't\", 'weren', \"weren't\", 'won', \"won't\", 'wouldn', \"wouldn't\"]\n"
     ]
    }
   ],
   "source": [
    "print('불용어 개수 :', len(stopwords.words('english') ))\n",
    "print(stopwords.words('english'))"
   ]
  },
  {
   "cell_type": "code",
   "execution_count": 11,
   "metadata": {
    "colab": {
     "base_uri": "https://localhost:8080/"
    },
    "id": "BklNI2ivREoX",
    "outputId": "501776fb-6957-49d7-b5d6-ec99ad8326c0"
   },
   "outputs": [
    {
     "name": "stdout",
     "output_type": "stream",
     "text": [
      "=3\n"
     ]
    }
   ],
   "source": [
    "# 데이터 전처리 함수\n",
    "def preprocess_sentence(sentence, remove_stopwords=True):\n",
    "    sentence = sentence.lower() # 텍스트 소문자화\n",
    "    sentence = BeautifulSoup(sentence, \"lxml\").text # <br />, <a href = ...> 등의 html 태그 제거\n",
    "    sentence = re.sub(r'\\([^)]*\\)', '', sentence) # 괄호로 닫힌 문자열 (...) 제거 Ex) my husband (and myself!) for => my husband for\n",
    "    sentence = re.sub('\"','', sentence) # 쌍따옴표 \" 제거\n",
    "    sentence = ' '.join([contractions[t] if t in contractions else t for t in sentence.split(\" \")]) # 약어 정규화\n",
    "    sentence = re.sub(r\"'s\\b\",\"\", sentence) # 소유격 제거. Ex) roland's -> roland\n",
    "    sentence = re.sub(\"[^a-zA-Z]\", \" \", sentence) # 영어 외 문자(숫자, 특수문자 등) 공백으로 변환\n",
    "    sentence = re.sub('[m]{2,}', 'mm', sentence) # m이 3개 이상이면 2개로 변경. Ex) ummmmmmm yeah -> umm yeah\n",
    "\n",
    "    # 불용어 제거 (Text)\n",
    "    if remove_stopwords:\n",
    "        tokens = ' '.join(word for word in sentence.split() if not word in stopwords.words('english') if len(word) > 1)\n",
    "    # 불용어 미제거 (Summary)\n",
    "    else:\n",
    "        tokens = ' '.join(word for word in sentence.split() if len(word) > 1)\n",
    "    return tokens\n",
    "print('=3')"
   ]
  },
  {
   "cell_type": "code",
   "execution_count": 12,
   "metadata": {
    "colab": {
     "background_save": true
    },
    "id": "tUoEj3FuREmm",
    "outputId": "d54886af-494e-42d5-cad3-eec5204333ac"
   },
   "outputs": [
    {
     "name": "stdout",
     "output_type": "stream",
     "text": [
      "Text 전처리 후 결과:  ['saurav kant alumnus upgrad iiit pg program machine learning artificial intelligence sr systems engineer infosys almost years work experience program upgrad degree career support helped transition data scientist tech mahindra salary hike upgrad online power learning powered lakh careers', 'kunal shah credit card bill payment platform cred gave users chance win free food swiggy one year pranav kaushik delhi techie bagged reward spending cred coins users get one cred coin per rupee bill paid used avail rewards brands like ixigo bookmyshow ubereats cult fit', 'new zealand defeated india wickets fourth odi hamilton thursday win first match five match odi series india lost international match rohit sharma captaincy consecutive victories dating back march match witnessed india getting seventh lowest total odi cricket history', 'aegon life iterm insurance plan customers enjoy tax benefits premiums paid save taxes plan provides life cover age years also customers options insure critical illnesses disability accidental death benefit rider life cover age years', 'speaking sexual harassment allegations rajkumar hirani sonam kapoor said known hirani many years true metoo movement get derailed metoo movement always believe woman case need reserve judgment added hirani accused assistant worked sanju']\n"
     ]
    }
   ],
   "source": [
    "# 전체 Text 데이터에 대한 전처리 : 10분 이상 시간이 걸릴 수 있습니다.\n",
    "clean_text = []\n",
    "\n",
    "# [[YOUR CODE]]\n",
    "for value in data['text']:\n",
    "    clean_text.append(preprocess_sentence(value))\n",
    "\n",
    "# 전처리 후 출력\n",
    "print(\"Text 전처리 후 결과: \", clean_text[:5])"
   ]
  },
  {
   "cell_type": "code",
   "execution_count": 13,
   "metadata": {
    "colab": {
     "base_uri": "https://localhost:8080/"
    },
    "id": "iLDJP6xBREkp",
    "outputId": "0908f2e0-84f9-483a-97bd-f1d65a74d3bb"
   },
   "outputs": [
    {
     "name": "stdout",
     "output_type": "stream",
     "text": [
      "headlines 전처리 후 결과:  ['upgrad learner switches to career in ml al with salary hike', 'delhi techie wins free food from swiggy for one year on cred', 'new zealand end rohit sharma led india match winning streak', 'aegon life iterm insurance plan helps customers save tax', 'have known hirani for yrs what if metoo claims are not true sonam']\n"
     ]
    }
   ],
   "source": [
    "# 전체 Summary 데이터에 대한 전처리 : 5분 이상 시간이 걸릴 수 있습니다.\n",
    "clean_summary = []\n",
    "\n",
    "# [[YOUR CODE]]\n",
    "for sum_value in data['headlines']:\n",
    "    clean_summary.append(preprocess_sentence(sum_value,False))\n",
    "print(\"headlines 전처리 후 결과: \", clean_summary[:5])"
   ]
  },
  {
   "cell_type": "code",
   "execution_count": 14,
   "metadata": {
    "colab": {
     "base_uri": "https://localhost:8080/"
    },
    "id": "fI85olG6REiv",
    "outputId": "a196b399-8f7f-4058-b3cc-93338d59b68f"
   },
   "outputs": [
    {
     "name": "stdout",
     "output_type": "stream",
     "text": [
      "=3\n"
     ]
    }
   ],
   "source": [
    "data['text'] = clean_text\n",
    "data['headlines'] = clean_summary\n",
    "\n",
    "# 빈 값을 Null 값으로 변환\n",
    "data.replace('', np.nan, inplace=True)\n",
    "print('=3')"
   ]
  },
  {
   "cell_type": "code",
   "execution_count": 15,
   "metadata": {
    "colab": {
     "base_uri": "https://localhost:8080/",
     "height": 147
    },
    "id": "XmcFtZwuREg2",
    "outputId": "4327c459-ba40-4b6f-cd20-ae7624d9de32"
   },
   "outputs": [
    {
     "data": {
      "text/plain": [
       "text         0\n",
       "headlines    0\n",
       "dtype: int64"
      ]
     },
     "execution_count": 15,
     "metadata": {},
     "output_type": "execute_result"
    }
   ],
   "source": [
    "data.isnull().sum()"
   ]
  },
  {
   "cell_type": "code",
   "execution_count": 16,
   "metadata": {
    "colab": {
     "base_uri": "https://localhost:8080/"
    },
    "id": "3mlqslHbREe6",
    "outputId": "bf07d070-6c7b-4374-b567-b44bee10da81"
   },
   "outputs": [
    {
     "name": "stdout",
     "output_type": "stream",
     "text": [
      "전체 샘플수 : 98360\n"
     ]
    }
   ],
   "source": [
    "data.dropna(axis=0, inplace=True)\n",
    "print('전체 샘플수 :', (len(data)))"
   ]
  },
  {
   "cell_type": "code",
   "execution_count": 17,
   "metadata": {
    "id": "I-thHRf1z7XF"
   },
   "outputs": [],
   "source": [
    "pandas_copy = data.copy()"
   ]
  },
  {
   "cell_type": "code",
   "execution_count": 18,
   "metadata": {
    "id": "CHcoD8bqz8W1"
   },
   "outputs": [],
   "source": [
    "data = pandas_copy"
   ]
  },
  {
   "cell_type": "markdown",
   "metadata": {
    "id": "Zvnmhd57Ryn7"
   },
   "source": [
    "# 샘플의 최대 길이 정하기"
   ]
  },
  {
   "cell_type": "code",
   "execution_count": 19,
   "metadata": {
    "colab": {
     "base_uri": "https://localhost:8080/",
     "height": 1000
    },
    "id": "Be_g7MhBREc_",
    "outputId": "106deb90-b1f7-4c38-e15f-a3d9bc0aa031"
   },
   "outputs": [
    {
     "name": "stdout",
     "output_type": "stream",
     "text": [
      "텍스트의 최소 길이 : 1\n",
      "텍스트의 최대 길이 : 60\n",
      "텍스트의 평균 길이 : 35.09968483123221\n",
      "요약의 최소 길이 : 1\n",
      "요약의 최대 길이 : 16\n",
      "요약의 평균 길이 : 9.299532330215534\n"
     ]
    },
    {
     "data": {
      "image/png": "[encoded data removed]",
      "text/plain": [
       "<Figure size 432x288 with 2 Axes>"
      ]
     },
     "metadata": {
      "needs_background": "light"
     },
     "output_type": "display_data"
    },
    {
     "data": {
      "image/png": "[encoded data removed]",
      "text/plain": [
       "<Figure size 432x288 with 1 Axes>"
      ]
     },
     "metadata": {
      "needs_background": "light"
     },
     "output_type": "display_data"
    },
    {
     "data": {
      "image/png": "[encoded data removed]",
      "text/plain": [
       "<Figure size 432x288 with 1 Axes>"
      ]
     },
     "metadata": {
      "needs_background": "light"
     },
     "output_type": "display_data"
    }
   ],
   "source": [
    "# 길이 분포 출력\n",
    "import matplotlib.pyplot as plt\n",
    "\n",
    "text_len = [len(s.split()) for s in data['text']]\n",
    "summary_len = [len(s.split()) for s in data['headlines']]\n",
    "\n",
    "print('텍스트의 최소 길이 : {}'.format(np.min(text_len)))\n",
    "print('텍스트의 최대 길이 : {}'.format(np.max(text_len)))\n",
    "print('텍스트의 평균 길이 : {}'.format(np.mean(text_len)))\n",
    "print('요약의 최소 길이 : {}'.format(np.min(summary_len)))\n",
    "print('요약의 최대 길이 : {}'.format(np.max(summary_len)))\n",
    "print('요약의 평균 길이 : {}'.format(np.mean(summary_len)))\n",
    "\n",
    "plt.subplot(1,2,1)\n",
    "plt.boxplot(text_len)\n",
    "plt.title('text')\n",
    "plt.subplot(1,2,2)\n",
    "plt.boxplot(summary_len)\n",
    "plt.title('headlines')\n",
    "plt.tight_layout()\n",
    "plt.show()\n",
    "\n",
    "plt.title('text')\n",
    "plt.hist(text_len, bins = 40)\n",
    "plt.xlabel('length of samples')\n",
    "plt.ylabel('number of samples')\n",
    "plt.show()\n",
    "\n",
    "plt.title('headlines')\n",
    "plt.hist(summary_len, bins = 40)\n",
    "plt.xlabel('length of samples')\n",
    "plt.ylabel('number of samples')\n",
    "plt.show()"
   ]
  },
  {
   "cell_type": "code",
   "execution_count": 26,
   "metadata": {
    "colab": {
     "base_uri": "https://localhost:8080/"
    },
    "id": "7t0_zJGyREa_",
    "outputId": "4494ae6a-f070-4bf5-d98a-f8aba28a1ed1"
   },
   "outputs": [
    {
     "name": "stdout",
     "output_type": "stream",
     "text": [
      "=3\n"
     ]
    }
   ],
   "source": [
    "text_max_len = 38\n",
    "summary_max_len = 10\n",
    "print('=3')"
   ]
  },
  {
   "cell_type": "code",
   "execution_count": 27,
   "metadata": {
    "colab": {
     "base_uri": "https://localhost:8080/"
    },
    "id": "6KTbWG4MREZW",
    "outputId": "f6994133-2a12-463d-c7b4-aa6eaa7dd55b"
   },
   "outputs": [
    {
     "name": "stdout",
     "output_type": "stream",
     "text": [
      "=3\n"
     ]
    }
   ],
   "source": [
    "def below_threshold_len(max_len, nested_list):\n",
    "  cnt = 0\n",
    "  for s in nested_list:\n",
    "    if(len(s.split()) <= max_len):\n",
    "        cnt = cnt + 1\n",
    "  print('전체 샘플 중 길이가 %s 이하인 샘플의 비율: %s'%(max_len, (cnt / len(nested_list))))\n",
    "print('=3')"
   ]
  },
  {
   "cell_type": "code",
   "execution_count": 28,
   "metadata": {
    "colab": {
     "base_uri": "https://localhost:8080/"
    },
    "id": "hpmc84S7REXn",
    "outputId": "9b254a05-ea11-4a16-ce1c-e38ccee2bb6f"
   },
   "outputs": [
    {
     "name": "stdout",
     "output_type": "stream",
     "text": [
      "전체 샘플 중 길이가 38 이하인 샘플의 비율: 0.8163379422529483\n",
      "전체 샘플 중 길이가 10 이하인 샘플의 비율: 0.8162972753151687\n"
     ]
    }
   ],
   "source": [
    "below_threshold_len(text_max_len, data['text'])\n",
    "below_threshold_len(summary_max_len,  data['headlines'])"
   ]
  },
  {
   "cell_type": "code",
   "execution_count": 29,
   "metadata": {
    "colab": {
     "base_uri": "https://localhost:8080/"
    },
    "id": "uGB8p8V5zYoT",
    "outputId": "0ddf5cc0-02b5-43ae-ca99-219668d5bbc0"
   },
   "outputs": [
    {
     "name": "stdout",
     "output_type": "stream",
     "text": [
      "전체 샘플수 : 65295\n"
     ]
    }
   ],
   "source": [
    "data = data[\n",
    "    (data['text'].apply(lambda x: len(x.split()) <= text_max_len)) &\n",
    "    (data['headlines'].apply(lambda x: len(x.split()) <= summary_max_len))\n",
    "]\n",
    "print('전체 샘플수 :', len(data))\n"
   ]
  },
  {
   "cell_type": "markdown",
   "metadata": {
    "id": "PF2bBQJeRtWa"
   },
   "source": [
    "#시작 토큰과 종료 토큰 추가하기"
   ]
  },
  {
   "cell_type": "code",
   "execution_count": 30,
   "metadata": {
    "colab": {
     "base_uri": "https://localhost:8080/",
     "height": 206
    },
    "id": "cbzVklOGtmVU",
    "outputId": "79ad6ba2-4d96-4f81-c2ea-70b95d13caba"
   },
   "outputs": [
    {
     "data": {
      "text/html": [
       "<div>\n",
       "<style scoped>\n",
       "    .dataframe tbody tr th:only-of-type {\n",
       "        vertical-align: middle;\n",
       "    }\n",
       "\n",
       "    .dataframe tbody tr th {\n",
       "        vertical-align: top;\n",
       "    }\n",
       "\n",
       "    .dataframe thead th {\n",
       "        text-align: right;\n",
       "    }\n",
       "</style>\n",
       "<table border=\"1\" class=\"dataframe\">\n",
       "  <thead>\n",
       "    <tr style=\"text-align: right;\">\n",
       "      <th></th>\n",
       "      <th>text</th>\n",
       "      <th>headlines</th>\n",
       "    </tr>\n",
       "  </thead>\n",
       "  <tbody>\n",
       "    <tr>\n",
       "      <th>2</th>\n",
       "      <td>new zealand defeated india wickets fourth odi ...</td>\n",
       "      <td>new zealand end rohit sharma led india match w...</td>\n",
       "    </tr>\n",
       "    <tr>\n",
       "      <th>3</th>\n",
       "      <td>aegon life iterm insurance plan customers enjo...</td>\n",
       "      <td>aegon life iterm insurance plan helps customer...</td>\n",
       "    </tr>\n",
       "    <tr>\n",
       "      <th>5</th>\n",
       "      <td>pakistani singer rahat fateh ali khan denied r...</td>\n",
       "      <td>rahat fateh ali khan denies getting notice for...</td>\n",
       "    </tr>\n",
       "    <tr>\n",
       "      <th>9</th>\n",
       "      <td>congress candidate shafia zubair ramgarh assem...</td>\n",
       "      <td>cong wins ramgarh bypoll in rajasthan takes to...</td>\n",
       "    </tr>\n",
       "    <tr>\n",
       "      <th>10</th>\n",
       "      <td>two minor cousins uttar pradesh gorakhpur alle...</td>\n",
       "      <td>up cousins fed human excreta for friendship wi...</td>\n",
       "    </tr>\n",
       "  </tbody>\n",
       "</table>\n",
       "</div>"
      ],
      "text/plain": [
       "                                                 text  \\\n",
       "2   new zealand defeated india wickets fourth odi ...   \n",
       "3   aegon life iterm insurance plan customers enjo...   \n",
       "5   pakistani singer rahat fateh ali khan denied r...   \n",
       "9   congress candidate shafia zubair ramgarh assem...   \n",
       "10  two minor cousins uttar pradesh gorakhpur alle...   \n",
       "\n",
       "                                            headlines  \n",
       "2   new zealand end rohit sharma led india match w...  \n",
       "3   aegon life iterm insurance plan helps customer...  \n",
       "5   rahat fateh ali khan denies getting notice for...  \n",
       "9   cong wins ramgarh bypoll in rajasthan takes to...  \n",
       "10  up cousins fed human excreta for friendship wi...  "
      ]
     },
     "execution_count": 30,
     "metadata": {},
     "output_type": "execute_result"
    }
   ],
   "source": [
    "data.head()"
   ]
  },
  {
   "cell_type": "code",
   "execution_count": 31,
   "metadata": {
    "colab": {
     "base_uri": "https://localhost:8080/",
     "height": 293
    },
    "id": "0BLetDY9RETf",
    "outputId": "a23652fd-ca00-4832-fff7-381a85b726d3"
   },
   "outputs": [
    {
     "name": "stderr",
     "output_type": "stream",
     "text": [
      "/tmp/ipykernel_31/4081104566.py:2: SettingWithCopyWarning: \n",
      "A value is trying to be set on a copy of a slice from a DataFrame.\n",
      "Try using .loc[row_indexer,col_indexer] = value instead\n",
      "\n",
      "See the caveats in the documentation: https://pandas.pydata.org/pandas-docs/stable/user_guide/indexing.html#returning-a-view-versus-a-copy\n",
      "  data['decoder_input'] = data['headlines'].apply(lambda x : 'sostoken '+ x)\n",
      "/tmp/ipykernel_31/4081104566.py:3: SettingWithCopyWarning: \n",
      "A value is trying to be set on a copy of a slice from a DataFrame.\n",
      "Try using .loc[row_indexer,col_indexer] = value instead\n",
      "\n",
      "See the caveats in the documentation: https://pandas.pydata.org/pandas-docs/stable/user_guide/indexing.html#returning-a-view-versus-a-copy\n",
      "  data['decoder_target'] = data['headlines'].apply(lambda x : x + ' eostoken')\n"
     ]
    },
    {
     "data": {
      "text/html": [
       "<div>\n",
       "<style scoped>\n",
       "    .dataframe tbody tr th:only-of-type {\n",
       "        vertical-align: middle;\n",
       "    }\n",
       "\n",
       "    .dataframe tbody tr th {\n",
       "        vertical-align: top;\n",
       "    }\n",
       "\n",
       "    .dataframe thead th {\n",
       "        text-align: right;\n",
       "    }\n",
       "</style>\n",
       "<table border=\"1\" class=\"dataframe\">\n",
       "  <thead>\n",
       "    <tr style=\"text-align: right;\">\n",
       "      <th></th>\n",
       "      <th>text</th>\n",
       "      <th>headlines</th>\n",
       "      <th>decoder_input</th>\n",
       "      <th>decoder_target</th>\n",
       "    </tr>\n",
       "  </thead>\n",
       "  <tbody>\n",
       "    <tr>\n",
       "      <th>2</th>\n",
       "      <td>new zealand defeated india wickets fourth odi ...</td>\n",
       "      <td>new zealand end rohit sharma led india match w...</td>\n",
       "      <td>sostoken new zealand end rohit sharma led indi...</td>\n",
       "      <td>new zealand end rohit sharma led india match w...</td>\n",
       "    </tr>\n",
       "    <tr>\n",
       "      <th>3</th>\n",
       "      <td>aegon life iterm insurance plan customers enjo...</td>\n",
       "      <td>aegon life iterm insurance plan helps customer...</td>\n",
       "      <td>sostoken aegon life iterm insurance plan helps...</td>\n",
       "      <td>aegon life iterm insurance plan helps customer...</td>\n",
       "    </tr>\n",
       "    <tr>\n",
       "      <th>5</th>\n",
       "      <td>pakistani singer rahat fateh ali khan denied r...</td>\n",
       "      <td>rahat fateh ali khan denies getting notice for...</td>\n",
       "      <td>sostoken rahat fateh ali khan denies getting n...</td>\n",
       "      <td>rahat fateh ali khan denies getting notice for...</td>\n",
       "    </tr>\n",
       "    <tr>\n",
       "      <th>9</th>\n",
       "      <td>congress candidate shafia zubair ramgarh assem...</td>\n",
       "      <td>cong wins ramgarh bypoll in rajasthan takes to...</td>\n",
       "      <td>sostoken cong wins ramgarh bypoll in rajasthan...</td>\n",
       "      <td>cong wins ramgarh bypoll in rajasthan takes to...</td>\n",
       "    </tr>\n",
       "    <tr>\n",
       "      <th>10</th>\n",
       "      <td>two minor cousins uttar pradesh gorakhpur alle...</td>\n",
       "      <td>up cousins fed human excreta for friendship wi...</td>\n",
       "      <td>sostoken up cousins fed human excreta for frie...</td>\n",
       "      <td>up cousins fed human excreta for friendship wi...</td>\n",
       "    </tr>\n",
       "  </tbody>\n",
       "</table>\n",
       "</div>"
      ],
      "text/plain": [
       "                                                 text  \\\n",
       "2   new zealand defeated india wickets fourth odi ...   \n",
       "3   aegon life iterm insurance plan customers enjo...   \n",
       "5   pakistani singer rahat fateh ali khan denied r...   \n",
       "9   congress candidate shafia zubair ramgarh assem...   \n",
       "10  two minor cousins uttar pradesh gorakhpur alle...   \n",
       "\n",
       "                                            headlines  \\\n",
       "2   new zealand end rohit sharma led india match w...   \n",
       "3   aegon life iterm insurance plan helps customer...   \n",
       "5   rahat fateh ali khan denies getting notice for...   \n",
       "9   cong wins ramgarh bypoll in rajasthan takes to...   \n",
       "10  up cousins fed human excreta for friendship wi...   \n",
       "\n",
       "                                        decoder_input  \\\n",
       "2   sostoken new zealand end rohit sharma led indi...   \n",
       "3   sostoken aegon life iterm insurance plan helps...   \n",
       "5   sostoken rahat fateh ali khan denies getting n...   \n",
       "9   sostoken cong wins ramgarh bypoll in rajasthan...   \n",
       "10  sostoken up cousins fed human excreta for frie...   \n",
       "\n",
       "                                       decoder_target  \n",
       "2   new zealand end rohit sharma led india match w...  \n",
       "3   aegon life iterm insurance plan helps customer...  \n",
       "5   rahat fateh ali khan denies getting notice for...  \n",
       "9   cong wins ramgarh bypoll in rajasthan takes to...  \n",
       "10  up cousins fed human excreta for friendship wi...  "
      ]
     },
     "execution_count": 31,
     "metadata": {},
     "output_type": "execute_result"
    }
   ],
   "source": [
    "# 요약 데이터에는 시작 토큰과 종료 토큰을 추가한다.\n",
    "data['decoder_input'] = data['headlines'].apply(lambda x : 'sostoken '+ x)\n",
    "data['decoder_target'] = data['headlines'].apply(lambda x : x + ' eostoken')\n",
    "data.head()"
   ]
  },
  {
   "cell_type": "code",
   "execution_count": 32,
   "metadata": {
    "colab": {
     "base_uri": "https://localhost:8080/"
    },
    "id": "c-WlPJAxRgbC",
    "outputId": "c7c733df-6ecd-47fe-ab92-a4ab8244d5bf"
   },
   "outputs": [
    {
     "name": "stdout",
     "output_type": "stream",
     "text": [
      "=3\n"
     ]
    }
   ],
   "source": [
    "encoder_input = np.array(data['text']) # 인코더의 입력\n",
    "decoder_input = np.array(data['decoder_input']) # 디코더의 입력\n",
    "decoder_target = np.array(data['decoder_target']) # 디코더의 레이블\n",
    "print('=3')"
   ]
  },
  {
   "cell_type": "code",
   "execution_count": 33,
   "metadata": {
    "colab": {
     "base_uri": "https://localhost:8080/"
    },
    "id": "zJqgY4QfRgZJ",
    "outputId": "98aa4e1f-1f9a-43d7-ac01-11c84d9cfc5c"
   },
   "outputs": [
    {
     "name": "stdout",
     "output_type": "stream",
     "text": [
      "[56781 10051 28780 ... 40291 14512  9401]\n"
     ]
    }
   ],
   "source": [
    "indices = np.arange(encoder_input.shape[0])\n",
    "np.random.shuffle(indices)\n",
    "print(indices)"
   ]
  },
  {
   "cell_type": "code",
   "execution_count": 34,
   "metadata": {
    "colab": {
     "base_uri": "https://localhost:8080/"
    },
    "id": "QVVFFTaMRgXI",
    "outputId": "81209143-e5b9-45af-e214-27d2df46c342"
   },
   "outputs": [
    {
     "name": "stdout",
     "output_type": "stream",
     "text": [
      "=3\n"
     ]
    }
   ],
   "source": [
    "encoder_input = encoder_input[indices]\n",
    "decoder_input = decoder_input[indices]\n",
    "decoder_target = decoder_target[indices]\n",
    "print('=3')"
   ]
  },
  {
   "cell_type": "code",
   "execution_count": 35,
   "metadata": {
    "colab": {
     "base_uri": "https://localhost:8080/"
    },
    "id": "jJS11gxnRgVS",
    "outputId": "0fb46a3d-588c-47ca-b558-04262273541c"
   },
   "outputs": [
    {
     "name": "stdout",
     "output_type": "stream",
     "text": [
      "테스트 데이터의 수 : 13059\n"
     ]
    }
   ],
   "source": [
    "n_of_val = int(len(encoder_input)*0.2)\n",
    "print('테스트 데이터의 수 :', n_of_val)"
   ]
  },
  {
   "cell_type": "code",
   "execution_count": 36,
   "metadata": {
    "colab": {
     "base_uri": "https://localhost:8080/"
    },
    "id": "YCjmy1d-RgTZ",
    "outputId": "71a18072-f06e-4750-8134-2dda2943f9e8"
   },
   "outputs": [
    {
     "name": "stdout",
     "output_type": "stream",
     "text": [
      "훈련 데이터의 개수 : 52236\n",
      "훈련 레이블의 개수 : 52236\n",
      "테스트 데이터의 개수 : 13059\n",
      "테스트 레이블의 개수 : 13059\n"
     ]
    }
   ],
   "source": [
    "encoder_input_train = encoder_input[:-n_of_val]\n",
    "decoder_input_train = decoder_input[:-n_of_val]\n",
    "decoder_target_train = decoder_target[:-n_of_val]\n",
    "\n",
    "encoder_input_test = encoder_input[-n_of_val:]\n",
    "decoder_input_test = decoder_input[-n_of_val:]\n",
    "decoder_target_test = decoder_target[-n_of_val:]\n",
    "\n",
    "print('훈련 데이터의 개수 :', len(encoder_input_train))\n",
    "print('훈련 레이블의 개수 :', len(decoder_input_train))\n",
    "print('테스트 데이터의 개수 :', len(encoder_input_test))\n",
    "print('테스트 레이블의 개수 :', len(decoder_input_test))"
   ]
  },
  {
   "cell_type": "code",
   "execution_count": null,
   "metadata": {
    "id": "5UPMPX7CRgRo"
   },
   "outputs": [],
   "source": []
  },
  {
   "cell_type": "code",
   "execution_count": null,
   "metadata": {
    "id": "CHBw93jGRgPo"
   },
   "outputs": [],
   "source": []
  },
  {
   "cell_type": "code",
   "execution_count": null,
   "metadata": {
    "colab": {
     "base_uri": "https://localhost:8080/"
    },
    "id": "xewMMFBeRgNi",
    "outputId": "510961c1-d73a-4010-f4b5-eec69472cfbf"
   },
   "outputs": [],
   "source": []
  },
  {
   "cell_type": "markdown",
   "metadata": {
    "id": "EE45rUNbcolv"
   },
   "source": [
    "# 단어 집합(vocabulary) 만들기 및 정수 인코딩"
   ]
  },
  {
   "cell_type": "code",
   "execution_count": 37,
   "metadata": {
    "colab": {
     "base_uri": "https://localhost:8080/"
    },
    "id": "GMaveMR_cp1u",
    "outputId": "9bdc149c-6c0a-490d-a71d-ca5358000b6e"
   },
   "outputs": [
    {
     "name": "stdout",
     "output_type": "stream",
     "text": [
      "=3\n"
     ]
    }
   ],
   "source": [
    "src_tokenizer = Tokenizer() # 토크나이저 정의\n",
    "src_tokenizer.fit_on_texts(encoder_input_train) # 입력된 데이터로부터 단어 집합 생성\n",
    "print('=3')"
   ]
  },
  {
   "cell_type": "code",
   "execution_count": 38,
   "metadata": {
    "colab": {
     "base_uri": "https://localhost:8080/"
    },
    "id": "VmWWiwxIcqxe",
    "outputId": "b3e0aeeb-b6f9-47a0-debf-f02a05ca5509"
   },
   "outputs": [
    {
     "name": "stdout",
     "output_type": "stream",
     "text": [
      "단어 집합(vocabulary)의 크기 : 57272\n",
      "등장 빈도가 6번 이하인 희귀 단어의 수: 39374\n",
      "단어 집합에서 희귀 단어를 제외시킬 경우의 단어 집합의 크기 17898\n",
      "단어 집합에서 희귀 단어의 비율: 68.74912697304093\n",
      "전체 등장 빈도에서 희귀 단어 등장 빈도 비율: 4.532127520161006\n"
     ]
    }
   ],
   "source": [
    "threshold = 7\n",
    "total_cnt = len(src_tokenizer.word_index) # 단어의 수\n",
    "rare_cnt = 0 # 등장 빈도수가 threshold보다 작은 단어의 개수를 카운트\n",
    "total_freq = 0 # 훈련 데이터의 전체 단어 빈도수 총 합\n",
    "rare_freq = 0 # 등장 빈도수가 threshold보다 작은 단어의 등장 빈도수의 총 합\n",
    "\n",
    "# 단어와 빈도수의 쌍(pair)을 key와 value로 받는다.\n",
    "for key, value in src_tokenizer.word_counts.items():\n",
    "    total_freq = total_freq + value\n",
    "\n",
    "    # 단어의 등장 빈도수가 threshold보다 작으면\n",
    "    if(value < threshold):\n",
    "        rare_cnt = rare_cnt + 1\n",
    "        rare_freq = rare_freq + value\n",
    "\n",
    "print('단어 집합(vocabulary)의 크기 :', total_cnt)\n",
    "print('등장 빈도가 %s번 이하인 희귀 단어의 수: %s'%(threshold - 1, rare_cnt))\n",
    "print('단어 집합에서 희귀 단어를 제외시킬 경우의 단어 집합의 크기 %s'%(total_cnt - rare_cnt))\n",
    "print(\"단어 집합에서 희귀 단어의 비율:\", (rare_cnt / total_cnt)*100)\n",
    "print(\"전체 등장 빈도에서 희귀 단어 등장 빈도 비율:\", (rare_freq / total_freq)*100)"
   ]
  },
  {
   "cell_type": "code",
   "execution_count": 39,
   "metadata": {
    "colab": {
     "base_uri": "https://localhost:8080/"
    },
    "id": "udI1iYpfcqvk",
    "outputId": "e60c4771-0aa0-48e4-9c9d-ef6b11846895"
   },
   "outputs": [
    {
     "name": "stdout",
     "output_type": "stream",
     "text": [
      "=3\n"
     ]
    }
   ],
   "source": [
    "src_vocab = 8000\n",
    "src_tokenizer = Tokenizer(num_words=src_vocab) # 단어 집합의 크기를 8,000으로 제한\n",
    "src_tokenizer.fit_on_texts(encoder_input_train) # 단어 집합 재생성\n",
    "print('=3')"
   ]
  },
  {
   "cell_type": "code",
   "execution_count": 40,
   "metadata": {
    "colab": {
     "base_uri": "https://localhost:8080/"
    },
    "id": "gK6_vINwcqtS",
    "outputId": "77bcb240-bd80-4c48-8d1d-4d8c05fa6043"
   },
   "outputs": [
    {
     "name": "stdout",
     "output_type": "stream",
     "text": [
      "[[72, 4302, 1, 2727, 404, 26, 43, 5479, 169, 3, 1610, 340, 722, 557, 470, 1316, 1922, 679, 1162, 961, 457, 214, 523], [5, 18, 131, 50, 397, 273, 709, 635, 1220, 1817, 7353, 5169, 2713, 3522, 99, 2450, 3609, 50, 1220, 1, 3, 50, 7196, 5169, 2136, 474, 6207, 1249, 3416, 99, 2450, 5169, 38, 513, 109, 1249], [88, 41, 627, 344, 1771, 493, 76, 102, 153, 16, 1056, 1468, 1431, 83, 3390, 2468, 102, 613, 2950, 153, 91, 599, 792, 16, 31, 344, 701, 1142, 1635, 344, 1771, 16]]\n"
     ]
    }
   ],
   "source": [
    "# 텍스트 시퀀스를 정수 시퀀스로 변환\n",
    "encoder_input_train = src_tokenizer.texts_to_sequences(encoder_input_train)\n",
    "encoder_input_test = src_tokenizer.texts_to_sequences(encoder_input_test)\n",
    "\n",
    "# 잘 진행되었는지 샘플 출력\n",
    "print(encoder_input_train[:3])"
   ]
  },
  {
   "cell_type": "code",
   "execution_count": 41,
   "metadata": {
    "colab": {
     "base_uri": "https://localhost:8080/"
    },
    "id": "D_J5QmfmcqrK",
    "outputId": "bf632184-0d97-4848-9947-7b2323428e40"
   },
   "outputs": [
    {
     "name": "stdout",
     "output_type": "stream",
     "text": [
      "=3\n"
     ]
    }
   ],
   "source": [
    "tar_tokenizer = Tokenizer()\n",
    "tar_tokenizer.fit_on_texts(decoder_input_train)\n",
    "print('=3')"
   ]
  },
  {
   "cell_type": "code",
   "execution_count": 42,
   "metadata": {
    "colab": {
     "base_uri": "https://localhost:8080/"
    },
    "id": "va-REUWQcqpD",
    "outputId": "26318b59-4492-4d47-84cb-0d5405742313"
   },
   "outputs": [
    {
     "name": "stdout",
     "output_type": "stream",
     "text": [
      "단어 집합(vocabulary)의 크기 : 25930\n",
      "등장 빈도가 5번 이하인 희귀 단어의 수: 17518\n",
      "단어 집합에서 희귀 단어를 제외시킬 경우의 단어 집합의 크기 8412\n",
      "단어 집합에서 희귀 단어의 비율: 67.55881218665638\n",
      "전체 등장 빈도에서 희귀 단어 등장 빈도 비율: 6.502989297768355\n"
     ]
    }
   ],
   "source": [
    "threshold = 6\n",
    "total_cnt = len(tar_tokenizer.word_index) # 단어의 수\n",
    "rare_cnt = 0 # 등장 빈도수가 threshold보다 작은 단어의 개수를 카운트\n",
    "total_freq = 0 # 훈련 데이터의 전체 단어 빈도수 총 합\n",
    "rare_freq = 0 # 등장 빈도수가 threshold보다 작은 단어의 등장 빈도수의 총 합\n",
    "\n",
    "# 단어와 빈도수의 쌍(pair)을 key와 value로 받는다.\n",
    "for key, value in tar_tokenizer.word_counts.items():\n",
    "    total_freq = total_freq + value\n",
    "\n",
    "    # 단어의 등장 빈도수가 threshold보다 작으면\n",
    "    if(value < threshold):\n",
    "        rare_cnt = rare_cnt + 1\n",
    "        rare_freq = rare_freq + value\n",
    "\n",
    "print('단어 집합(vocabulary)의 크기 :', total_cnt)\n",
    "print('등장 빈도가 %s번 이하인 희귀 단어의 수: %s'%(threshold - 1, rare_cnt))\n",
    "print('단어 집합에서 희귀 단어를 제외시킬 경우의 단어 집합의 크기 %s'%(total_cnt - rare_cnt))\n",
    "print(\"단어 집합에서 희귀 단어의 비율:\", (rare_cnt / total_cnt)*100)\n",
    "print(\"전체 등장 빈도에서 희귀 단어 등장 빈도 비율:\", (rare_freq / total_freq)*100)"
   ]
  },
  {
   "cell_type": "code",
   "execution_count": 43,
   "metadata": {
    "colab": {
     "base_uri": "https://localhost:8080/"
    },
    "id": "hPPw59iBcqmt",
    "outputId": "8f76c547-ca3d-4287-f75d-7509d23a3892"
   },
   "outputs": [
    {
     "name": "stdout",
     "output_type": "stream",
     "text": [
      "input\n",
      "input  [[1, 310, 121, 3, 437, 51, 147, 79], [1, 29, 385, 15, 1428, 265, 3, 819], [1, 809, 56, 712, 1221, 450, 885, 40, 398], [1, 320, 19, 18, 182, 18, 345, 6, 107, 10], [1, 92, 165, 17, 376, 4]]\n",
      "target\n",
      "decoder  [[310, 121, 3, 437, 51, 147, 79, 2], [29, 385, 15, 1428, 265, 3, 819, 2], [809, 56, 712, 1221, 450, 885, 40, 398, 2], [320, 19, 18, 182, 18, 345, 6, 107, 10, 2], [92, 165, 17, 376, 4, 2]]\n"
     ]
    }
   ],
   "source": [
    "tar_vocab = 2000\n",
    "tar_tokenizer = Tokenizer(num_words=tar_vocab)\n",
    "tar_tokenizer.fit_on_texts(decoder_input_train)\n",
    "tar_tokenizer.fit_on_texts(decoder_target_train)\n",
    "\n",
    "# 텍스트 시퀀스를 정수 시퀀스로 변환\n",
    "decoder_input_train = tar_tokenizer.texts_to_sequences(decoder_input_train)\n",
    "decoder_target_train = tar_tokenizer.texts_to_sequences(decoder_target_train)\n",
    "decoder_input_test = tar_tokenizer.texts_to_sequences(decoder_input_test)\n",
    "decoder_target_test = tar_tokenizer.texts_to_sequences(decoder_target_test)\n",
    "\n",
    "# 잘 변환되었는지 확인\n",
    "print('input')\n",
    "print('input ',decoder_input_train[:5])\n",
    "print('target')\n",
    "print('decoder ',decoder_target_train[:5])"
   ]
  },
  {
   "cell_type": "code",
   "execution_count": 44,
   "metadata": {
    "colab": {
     "base_uri": "https://localhost:8080/"
    },
    "id": "5RYGZEQxcqke",
    "outputId": "936fa02d-5ea8-4607-8a19-b73d4aed4cd6"
   },
   "outputs": [
    {
     "name": "stdout",
     "output_type": "stream",
     "text": [
      "삭제할 훈련 데이터의 개수 : 5\n",
      "삭제할 테스트 데이터의 개수 : 2\n",
      "훈련 데이터의 개수 : 52231\n",
      "훈련 레이블의 개수 : 52231\n",
      "테스트 데이터의 개수 : 13057\n",
      "테스트 레이블의 개수 : 13057\n"
     ]
    }
   ],
   "source": [
    "drop_train = [index for index, sentence in enumerate(decoder_input_train) if len(sentence) == 1]\n",
    "drop_test = [index for index, sentence in enumerate(decoder_input_test) if len(sentence) == 1]\n",
    "\n",
    "print('삭제할 훈련 데이터의 개수 :', len(drop_train))\n",
    "print('삭제할 테스트 데이터의 개수 :', len(drop_test))\n",
    "\n",
    "encoder_input_train = [sentence for index, sentence in enumerate(encoder_input_train) if index not in drop_train]\n",
    "decoder_input_train = [sentence for index, sentence in enumerate(decoder_input_train) if index not in drop_train]\n",
    "decoder_target_train = [sentence for index, sentence in enumerate(decoder_target_train) if index not in drop_train]\n",
    "\n",
    "encoder_input_test = [sentence for index, sentence in enumerate(encoder_input_test) if index not in drop_test]\n",
    "decoder_input_test = [sentence for index, sentence in enumerate(decoder_input_test) if index not in drop_test]\n",
    "decoder_target_test = [sentence for index, sentence in enumerate(decoder_target_test) if index not in drop_test]\n",
    "\n",
    "print('훈련 데이터의 개수 :', len(encoder_input_train))\n",
    "print('훈련 레이블의 개수 :', len(decoder_input_train))\n",
    "print('테스트 데이터의 개수 :', len(encoder_input_test))\n",
    "print('테스트 레이블의 개수 :', len(decoder_input_test))"
   ]
  },
  {
   "cell_type": "markdown",
   "metadata": {
    "id": "566Uk5Tec4mZ"
   },
   "source": [
    "## 패딩하기"
   ]
  },
  {
   "cell_type": "code",
   "execution_count": 45,
   "metadata": {
    "colab": {
     "base_uri": "https://localhost:8080/"
    },
    "id": "e96KYeGZcqhy",
    "outputId": "6ff0e939-17b5-4a4c-9e88-a716248d074f"
   },
   "outputs": [
    {
     "name": "stdout",
     "output_type": "stream",
     "text": [
      "=3\n"
     ]
    }
   ],
   "source": [
    "encoder_input_train = pad_sequences(encoder_input_train, maxlen=text_max_len, padding='post')\n",
    "encoder_input_test = pad_sequences(encoder_input_test, maxlen=text_max_len, padding='post')\n",
    "decoder_input_train = pad_sequences(decoder_input_train, maxlen=summary_max_len, padding='post')\n",
    "decoder_target_train = pad_sequences(decoder_target_train, maxlen=summary_max_len, padding='post')\n",
    "decoder_input_test = pad_sequences(decoder_input_test, maxlen=summary_max_len, padding='post')\n",
    "decoder_target_test = pad_sequences(decoder_target_test, maxlen=summary_max_len, padding='post')\n",
    "print('=3')"
   ]
  },
  {
   "cell_type": "markdown",
   "metadata": {
    "id": "QEN5IBvwc6yP"
   },
   "source": [
    "# 모델 설계하기"
   ]
  },
  {
   "cell_type": "code",
   "execution_count": 47,
   "metadata": {
    "id": "GbBD4TDWcqfj"
   },
   "outputs": [],
   "source": [
    "from tensorflow.keras.layers import Input, LSTM, Embedding, Dense, Concatenate, TimeDistributed\n",
    "from tensorflow.keras.models import Model\n",
    "from tensorflow.keras.callbacks import EarlyStopping, ModelCheckpoint\n",
    "\n",
    "\n",
    "# 인코더 설계 시작\n",
    "embedding_dim = 128\n",
    "hidden_size = 256\n",
    "\n",
    "# 인코더\n",
    "encoder_inputs = Input(shape=(text_max_len,))\n",
    "\n",
    "# 인코더의 임베딩 층\n",
    "enc_emb = Embedding(src_vocab, embedding_dim)(encoder_inputs)\n",
    "\n",
    "# 인코더의 LSTM 1\n",
    "# encoder_lstm1 = LSTM(hidden_size, return_sequences=True, return_state=True ,dropout = 0.4, recurrent_dropout = 0.4)\n",
    "encoder_lstm1 = LSTM(hidden_size, return_sequences=True, return_state=True ,dropout = 0.4)\n",
    "encoder_output1, state_h1, state_c1 = encoder_lstm1(enc_emb)\n",
    "\n",
    "# 인코더의 LSTM 2\n",
    "encoder_lstm2 = LSTM(hidden_size, return_sequences=True, return_state=True ,dropout = 0.4)\n",
    "encoder_output2, state_h2, state_c2 = encoder_lstm2(encoder_output1)\n",
    "\n",
    "# 인코더의 LSTM 3\n",
    "encoder_lstm3 = LSTM(hidden_size, return_sequences=True, return_state=True ,dropout = 0.4)\n",
    "encoder_output3, state_h3, state_c3 = encoder_lstm3(encoder_output2)\n",
    "\n",
    "# 인코더의 LSTM\n",
    "encoder_lstm = LSTM(hidden_size, return_sequences=True, return_state=True, dropout=0.4)\n",
    "encoder_outputs, state_h, state_c = encoder_lstm(encoder_output3)\n"
   ]
  },
  {
   "cell_type": "code",
   "execution_count": 48,
   "metadata": {
    "id": "Nn-l9Pwgcqc-"
   },
   "outputs": [],
   "source": [
    "# 디코더 설계\n",
    "decoder_inputs = Input(shape=(None,))\n",
    "\n",
    "# 디코더의 임베딩 층\n",
    "dec_emb_layer = Embedding(tar_vocab, embedding_dim)\n",
    "dec_emb = dec_emb_layer(decoder_inputs)\n",
    "\n",
    "# 디코더의 LSTM\n",
    "# decoder_lstm = LSTM(hidden_size, return_sequences=True, return_state=True, dropout=0.4, recurrent_dropout=0.2)\n",
    "decoder_lstm = LSTM(hidden_size, return_sequences=True, return_state=True, dropout=0.4)\n",
    "decoder_outputs, _, _ = decoder_lstm(dec_emb, initial_state=[state_h, state_c])"
   ]
  },
  {
   "cell_type": "code",
   "execution_count": 49,
   "metadata": {
    "colab": {
     "base_uri": "https://localhost:8080/",
     "height": 644
    },
    "id": "OOtqyR4Gcqa1",
    "outputId": "609b69d8-fa80-44e5-8218-d216f6f63b67"
   },
   "outputs": [
    {
     "name": "stdout",
     "output_type": "stream",
     "text": [
      "Model: \"model\"\n",
      "__________________________________________________________________________________________________\n",
      "Layer (type)                    Output Shape         Param #     Connected to                     \n",
      "==================================================================================================\n",
      "input_1 (InputLayer)            [(None, 38)]         0                                            \n",
      "__________________________________________________________________________________________________\n",
      "embedding (Embedding)           (None, 38, 128)      1024000     input_1[0][0]                    \n",
      "__________________________________________________________________________________________________\n",
      "lstm (LSTM)                     [(None, 38, 256), (N 394240      embedding[0][0]                  \n",
      "__________________________________________________________________________________________________\n",
      "lstm_1 (LSTM)                   [(None, 38, 256), (N 525312      lstm[0][0]                       \n",
      "__________________________________________________________________________________________________\n",
      "input_2 (InputLayer)            [(None, None)]       0                                            \n",
      "__________________________________________________________________________________________________\n",
      "lstm_2 (LSTM)                   [(None, 38, 256), (N 525312      lstm_1[0][0]                     \n",
      "__________________________________________________________________________________________________\n",
      "embedding_1 (Embedding)         (None, None, 128)    256000      input_2[0][0]                    \n",
      "__________________________________________________________________________________________________\n",
      "lstm_3 (LSTM)                   [(None, 38, 256), (N 525312      lstm_2[0][0]                     \n",
      "__________________________________________________________________________________________________\n",
      "lstm_4 (LSTM)                   [(None, None, 256),  394240      embedding_1[0][0]                \n",
      "                                                                 lstm_3[0][1]                     \n",
      "                                                                 lstm_3[0][2]                     \n",
      "__________________________________________________________________________________________________\n",
      "dense (Dense)                   (None, None, 2000)   514000      lstm_4[0][0]                     \n",
      "==================================================================================================\n",
      "Total params: 4,158,416\n",
      "Trainable params: 4,158,416\n",
      "Non-trainable params: 0\n",
      "__________________________________________________________________________________________________\n"
     ]
    }
   ],
   "source": [
    "# 디코더의 출력층\n",
    "decoder_softmax_layer = Dense(tar_vocab, activation='softmax')\n",
    "decoder_softmax_outputs = decoder_softmax_layer(decoder_outputs)\n",
    "\n",
    "# 모델 정의\n",
    "model = Model([encoder_inputs, decoder_inputs], decoder_softmax_outputs)\n",
    "model.summary()"
   ]
  },
  {
   "cell_type": "markdown",
   "metadata": {
    "id": "XR36-vs_dChY"
   },
   "source": [
    "## 어텐션 메커니즘"
   ]
  },
  {
   "cell_type": "code",
   "execution_count": 50,
   "metadata": {
    "colab": {
     "base_uri": "https://localhost:8080/",
     "height": 743
    },
    "id": "HMHevo7-dED1",
    "outputId": "1e3346bb-e26f-4fb3-9544-e12b9fbae96c"
   },
   "outputs": [
    {
     "name": "stdout",
     "output_type": "stream",
     "text": [
      "Model: \"model_1\"\n",
      "__________________________________________________________________________________________________\n",
      "Layer (type)                    Output Shape         Param #     Connected to                     \n",
      "==================================================================================================\n",
      "input_1 (InputLayer)            [(None, 38)]         0                                            \n",
      "__________________________________________________________________________________________________\n",
      "embedding (Embedding)           (None, 38, 128)      1024000     input_1[0][0]                    \n",
      "__________________________________________________________________________________________________\n",
      "lstm (LSTM)                     [(None, 38, 256), (N 394240      embedding[0][0]                  \n",
      "__________________________________________________________________________________________________\n",
      "lstm_1 (LSTM)                   [(None, 38, 256), (N 525312      lstm[0][0]                       \n",
      "__________________________________________________________________________________________________\n",
      "input_2 (InputLayer)            [(None, None)]       0                                            \n",
      "__________________________________________________________________________________________________\n",
      "lstm_2 (LSTM)                   [(None, 38, 256), (N 525312      lstm_1[0][0]                     \n",
      "__________________________________________________________________________________________________\n",
      "embedding_1 (Embedding)         (None, None, 128)    256000      input_2[0][0]                    \n",
      "__________________________________________________________________________________________________\n",
      "lstm_3 (LSTM)                   [(None, 38, 256), (N 525312      lstm_2[0][0]                     \n",
      "__________________________________________________________________________________________________\n",
      "lstm_4 (LSTM)                   [(None, None, 256),  394240      embedding_1[0][0]                \n",
      "                                                                 lstm_3[0][1]                     \n",
      "                                                                 lstm_3[0][2]                     \n",
      "__________________________________________________________________________________________________\n",
      "attention_layer (AdditiveAttent (None, None, 256)    256         lstm_4[0][0]                     \n",
      "                                                                 lstm_3[0][0]                     \n",
      "__________________________________________________________________________________________________\n",
      "concat_layer (Concatenate)      (None, None, 512)    0           lstm_4[0][0]                     \n",
      "                                                                 attention_layer[0][0]            \n",
      "__________________________________________________________________________________________________\n",
      "dense_1 (Dense)                 (None, None, 2000)   1026000     concat_layer[0][0]               \n",
      "==================================================================================================\n",
      "Total params: 4,670,672\n",
      "Trainable params: 4,670,672\n",
      "Non-trainable params: 0\n",
      "__________________________________________________________________________________________________\n"
     ]
    }
   ],
   "source": [
    "from tensorflow.keras.layers import AdditiveAttention\n",
    "\n",
    "# 어텐션 층(어텐션 함수)\n",
    "attn_layer = AdditiveAttention(name='attention_layer')\n",
    "\n",
    "# 인코더와 디코더의 모든 time step의 hidden state를 어텐션 층에 전달하고 결과를 리턴\n",
    "attn_out = attn_layer([decoder_outputs, encoder_outputs])\n",
    "\n",
    "\n",
    "# 어텐션의 결과와 디코더의 hidden state들을 연결\n",
    "decoder_concat_input = Concatenate(axis=-1, name='concat_layer')([decoder_outputs, attn_out])\n",
    "\n",
    "# 디코더의 출력층\n",
    "decoder_softmax_layer = Dense(tar_vocab, activation='softmax')\n",
    "decoder_softmax_outputs = decoder_softmax_layer(decoder_concat_input)\n",
    "\n",
    "# 모델 정의\n",
    "model = Model([encoder_inputs, decoder_inputs], decoder_softmax_outputs)\n",
    "model.summary()"
   ]
  },
  {
   "cell_type": "markdown",
   "metadata": {
    "id": "TGC7EBjgdHiB"
   },
   "source": [
    "# 모델 훈련하기"
   ]
  },
  {
   "cell_type": "code",
   "execution_count": 51,
   "metadata": {
    "colab": {
     "base_uri": "https://localhost:8080/"
    },
    "id": "cM-3dEBRdGck",
    "outputId": "f2f0ec65-4525-48f6-eb48-c515bfce7980"
   },
   "outputs": [
    {
     "name": "stdout",
     "output_type": "stream",
     "text": [
      "Epoch 1/50\n",
      "205/205 [==============================] - 31s 78ms/step - loss: 4.4721 - val_loss: 4.1899\n",
      "Epoch 2/50\n",
      "205/205 [==============================] - 14s 68ms/step - loss: 4.0644 - val_loss: 3.9953\n",
      "Epoch 3/50\n",
      "205/205 [==============================] - 14s 69ms/step - loss: 3.8185 - val_loss: 3.7834\n",
      "Epoch 4/50\n",
      "205/205 [==============================] - 14s 70ms/step - loss: 3.6119 - val_loss: 3.6355\n",
      "Epoch 5/50\n",
      "205/205 [==============================] - 14s 71ms/step - loss: 3.4381 - val_loss: 3.5022\n",
      "Epoch 6/50\n",
      "205/205 [==============================] - 15s 72ms/step - loss: 3.2882 - val_loss: 3.3679\n",
      "Epoch 7/50\n",
      "205/205 [==============================] - 15s 73ms/step - loss: 3.1644 - val_loss: 3.3068\n",
      "Epoch 8/50\n",
      "205/205 [==============================] - 15s 74ms/step - loss: 3.0587 - val_loss: 3.2254\n",
      "Epoch 9/50\n",
      "205/205 [==============================] - 15s 74ms/step - loss: 2.9671 - val_loss: 3.1936\n",
      "Epoch 10/50\n",
      "205/205 [==============================] - 15s 73ms/step - loss: 2.8854 - val_loss: 3.1548\n",
      "Epoch 11/50\n",
      "205/205 [==============================] - 15s 73ms/step - loss: 2.8133 - val_loss: 3.1019\n",
      "Epoch 12/50\n",
      "205/205 [==============================] - 15s 73ms/step - loss: 2.7470 - val_loss: 3.0698\n",
      "Epoch 13/50\n",
      "205/205 [==============================] - 15s 73ms/step - loss: 2.6861 - val_loss: 3.0425\n",
      "Epoch 14/50\n",
      "205/205 [==============================] - 15s 73ms/step - loss: 2.6300 - val_loss: 3.0174\n",
      "Epoch 15/50\n",
      "205/205 [==============================] - 15s 73ms/step - loss: 2.5784 - val_loss: 3.0046\n",
      "Epoch 16/50\n",
      "205/205 [==============================] - 15s 73ms/step - loss: 2.5284 - val_loss: 2.9828\n",
      "Epoch 17/50\n",
      "205/205 [==============================] - 15s 73ms/step - loss: 2.4821 - val_loss: 3.0011\n",
      "Epoch 18/50\n",
      "205/205 [==============================] - 15s 73ms/step - loss: 2.4388 - val_loss: 2.9743\n",
      "Epoch 19/50\n",
      "205/205 [==============================] - 15s 73ms/step - loss: 2.3981 - val_loss: 2.9712\n",
      "Epoch 20/50\n",
      "205/205 [==============================] - 15s 73ms/step - loss: 2.3587 - val_loss: 2.9776\n",
      "Epoch 21/50\n",
      "205/205 [==============================] - 15s 73ms/step - loss: 2.3237 - val_loss: 2.9694\n",
      "Epoch 22/50\n",
      "205/205 [==============================] - 15s 73ms/step - loss: 2.2856 - val_loss: 2.9644\n",
      "Epoch 23/50\n",
      "205/205 [==============================] - 15s 73ms/step - loss: 2.2520 - val_loss: 2.9656\n",
      "Epoch 24/50\n",
      "205/205 [==============================] - 15s 73ms/step - loss: 2.2187 - val_loss: 2.9774\n",
      "Epoch 00024: early stopping\n"
     ]
    }
   ],
   "source": [
    "model.compile(optimizer='rmsprop', loss='sparse_categorical_crossentropy')\n",
    "es = EarlyStopping(monitor='val_loss', patience=2, verbose=1)\n",
    "history = model.fit(x=[encoder_input_train, decoder_input_train], y=decoder_target_train, \\\n",
    "          validation_data=([encoder_input_test, decoder_input_test], decoder_target_test), \\\n",
    "          batch_size=256, callbacks=[es], epochs=50)"
   ]
  },
  {
   "cell_type": "code",
   "execution_count": 52,
   "metadata": {
    "id": "3a8aYjYPdGar"
   },
   "outputs": [
    {
     "data": {
      "image/png": "[encoded data removed]",
      "text/plain": [
       "<Figure size 432x288 with 1 Axes>"
      ]
     },
     "metadata": {
      "needs_background": "light"
     },
     "output_type": "display_data"
    }
   ],
   "source": [
    "plt.plot(history.history['loss'], label='train')\n",
    "plt.plot(history.history['val_loss'], label='test')\n",
    "plt.legend()\n",
    "plt.show()"
   ]
  },
  {
   "cell_type": "markdown",
   "metadata": {
    "id": "u_WDAehBdMpy"
   },
   "source": [
    "# 인퍼런스 모델 구현하기"
   ]
  },
  {
   "cell_type": "code",
   "execution_count": 53,
   "metadata": {
    "id": "20X3tw_4dGW7"
   },
   "outputs": [
    {
     "name": "stdout",
     "output_type": "stream",
     "text": [
      "=3\n"
     ]
    }
   ],
   "source": [
    "src_index_to_word = src_tokenizer.index_word # 원문 단어 집합에서 정수 -> 단어를 얻음\n",
    "tar_word_to_index = tar_tokenizer.word_index # 요약 단어 집합에서 단어 -> 정수를 얻음\n",
    "tar_index_to_word = tar_tokenizer.index_word # 요약 단어 집합에서 정수 -> 단어를 얻음\n",
    "\n",
    "print('=3')"
   ]
  },
  {
   "cell_type": "code",
   "execution_count": 54,
   "metadata": {
    "id": "bn3O4zWSdGVM"
   },
   "outputs": [
    {
     "name": "stdout",
     "output_type": "stream",
     "text": [
      "=3\n"
     ]
    }
   ],
   "source": [
    "# 인코더 설계\n",
    "encoder_model = Model(inputs=encoder_inputs, outputs=[encoder_outputs, state_h, state_c])\n",
    "\n",
    "# 이전 시점의 상태들을 저장하는 텐서\n",
    "decoder_state_input_h = Input(shape=(hidden_size,))\n",
    "decoder_state_input_c = Input(shape=(hidden_size,))\n",
    "\n",
    "dec_emb2 = dec_emb_layer(decoder_inputs)\n",
    "\n",
    "# 문장의 다음 단어를 예측하기 위해서 초기 상태(initial_state)를 이전 시점의 상태로 사용. 이는 뒤의 함수 decode_sequence()에 구현\n",
    "# 훈련 과정에서와 달리 LSTM의 리턴하는 은닉 상태와 셀 상태인 state_h와 state_c를 버리지 않음.\n",
    "decoder_outputs2, state_h2, state_c2 = decoder_lstm(dec_emb2, initial_state=[decoder_state_input_h, decoder_state_input_c])\n",
    "\n",
    "print('=3')"
   ]
  },
  {
   "cell_type": "code",
   "execution_count": 55,
   "metadata": {
    "id": "gOUblhs3dGTG"
   },
   "outputs": [
    {
     "name": "stdout",
     "output_type": "stream",
     "text": [
      "=3\n"
     ]
    }
   ],
   "source": [
    "# 어텐션 함수\n",
    "decoder_hidden_state_input = Input(shape=(text_max_len, hidden_size))\n",
    "attn_out_inf = attn_layer([decoder_outputs2, decoder_hidden_state_input])\n",
    "decoder_inf_concat = Concatenate(axis=-1, name='concat')([decoder_outputs2, attn_out_inf])\n",
    "\n",
    "# 디코더의 출력층\n",
    "decoder_outputs2 = decoder_softmax_layer(decoder_inf_concat)\n",
    "\n",
    "# 최종 디코더 모델\n",
    "decoder_model = Model(\n",
    "    [decoder_inputs] + [decoder_hidden_state_input,decoder_state_input_h, decoder_state_input_c],\n",
    "    [decoder_outputs2] + [state_h2, state_c2])\n",
    "\n",
    "print('=3')"
   ]
  },
  {
   "cell_type": "code",
   "execution_count": 56,
   "metadata": {
    "id": "ENzgE3FTdGQ-"
   },
   "outputs": [
    {
     "name": "stdout",
     "output_type": "stream",
     "text": [
      "=3\n"
     ]
    }
   ],
   "source": [
    "def decode_sequence(input_seq):\n",
    "    # 입력으로부터 인코더의 상태를 얻음\n",
    "    e_out, e_h, e_c = encoder_model.predict(input_seq)\n",
    "\n",
    "     # <SOS>에 해당하는 토큰 생성\n",
    "    target_seq = np.zeros((1,1))\n",
    "    target_seq[0, 0] = tar_word_to_index['sostoken']\n",
    "\n",
    "    stop_condition = False\n",
    "    decoded_sentence = ''\n",
    "    while not stop_condition: # stop_condition이 True가 될 때까지 루프 반복\n",
    "\n",
    "        output_tokens, h, c = decoder_model.predict([target_seq] + [e_out, e_h, e_c])\n",
    "        sampled_token_index = np.argmax(output_tokens[0, -1, :])\n",
    "        sampled_token = tar_index_to_word[sampled_token_index]\n",
    "\n",
    "        if (sampled_token!='eostoken'):\n",
    "            decoded_sentence += ' '+sampled_token\n",
    "\n",
    "        #  <eos>에 도달하거나 최대 길이를 넘으면 중단.\n",
    "        if (sampled_token == 'eostoken'  or len(decoded_sentence.split()) >= (summary_max_len-1)):\n",
    "            stop_condition = True\n",
    "\n",
    "        # 길이가 1인 타겟 시퀀스를 업데이트\n",
    "        target_seq = np.zeros((1,1))\n",
    "        target_seq[0, 0] = sampled_token_index\n",
    "\n",
    "        # 상태를 업데이트 합니다.\n",
    "        e_h, e_c = h, c\n",
    "\n",
    "    return decoded_sentence\n",
    "print('=3')"
   ]
  },
  {
   "cell_type": "markdown",
   "metadata": {
    "id": "XUw575DPdUwF"
   },
   "source": [
    "# 모델 테스트하기"
   ]
  },
  {
   "cell_type": "code",
   "execution_count": 57,
   "metadata": {
    "id": "Up7C-U8GdGOv"
   },
   "outputs": [
    {
     "name": "stdout",
     "output_type": "stream",
     "text": [
      "=3\n"
     ]
    }
   ],
   "source": [
    "# 원문의 정수 시퀀스를 텍스트 시퀀스로 변환\n",
    "def seq2text(input_seq):\n",
    "    temp=''\n",
    "    for i in input_seq:\n",
    "        if (i!=0):\n",
    "            temp = temp + src_index_to_word[i]+' '\n",
    "    return temp\n",
    "\n",
    "# 요약문의 정수 시퀀스를 텍스트 시퀀스로 변환\n",
    "def seq2summary(input_seq):\n",
    "    # [[YOUR CODE]]\n",
    "    temp=''\n",
    "    for i in input_seq:\n",
    "        if (i!=0):\n",
    "            temp = temp + src_index_to_word[i]+' '\n",
    "\n",
    "        word = src_index_to_word.get(i, '')  # 인덱스를 단어로 변환\n",
    "        if word in ['sostoken', 'eostoken']:  # 특수 토큰 무시\n",
    "            temp = temp + src_index_to_word[i]+' '\n",
    "\n",
    "    return temp\n",
    "\n",
    "print('=3')"
   ]
  },
  {
   "cell_type": "code",
   "execution_count": 58,
   "metadata": {
    "id": "bCV9KZYWdGM2"
   },
   "outputs": [
    {
     "name": "stdout",
     "output_type": "stream",
     "text": [
      "원문 : vishal sikka resigned infosys md ceo friday blog post stated steve jobs said must follow heart build buildings give something else stating looks forward transition said time limited waste living someone else life \n",
      "실제 요약 : said one fuel nations little victim called pune \n",
      "예측 요약 :  we have not going to take ceo\n",
      "\n",
      "\n",
      "원문 : police stopped church prayer attended people including american tourists uttar pradesh district friday hindu yuva complained event cover religious conversion group also filed complaint adam church police said prior permission taken meeting \n",
      "실제 요약 : said tuesday shoot india delhi first speech fan \n",
      "예측 요약 :  cops replace in drive\n",
      "\n",
      "\n",
      "원문 : andhra pradesh cabinet saturday officially selected tower design upcoming assembly building new capital earlier october ruling telugu party released designs facebook page asking public submit comments section cabinet said tower design majority \n",
      "실제 요약 : said space someone fastest us planning \n",
      "예측 요약 :  andhra cm to set up for andhra\n",
      "\n",
      "\n",
      "원문 : reportedly supposed star villain ranveer singh starrer simmba said would able part film shoulder injury huge crazy fan rohit shetty breaks hearts able part film tweeted \n",
      "실제 요약 : said added new musk also documents also padmavati \n",
      "예측 요약 :  ranveer singh to play in film\n",
      "\n",
      "\n",
      "원문 : many people killed least injured fell foot deep gorge jammu kashmir government officials said injured people jammu treatment reports said driver lost control route \n",
      "실제 요약 : said khan government complaint saturday patients india \n",
      "예측 요약 :  killed injured in explosion at in\n",
      "\n",
      "\n",
      "원문 : teaser dhanush first international film extraordinary journey released film based french novel extraordinary journey got trapped ikea directed scott film scheduled release may \n",
      "실제 요약 : said cards also allegedly suggested friday money \n",
      "예측 요약 :  teaser of starrer released\n",
      "\n",
      "\n",
      "원문 : iranian authorities arrested suspects connection wednesday twin terror attacks nation interior ministry said lots documents seized well ministry added islamic state claimed responsibility attacks suicide bombers gunmen attacked iranian parliament islamic republic founder \n",
      "실제 요약 : said end john first husband change \n",
      "예측 요약 :  isis claims of in london\n",
      "\n",
      "\n",
      "원문 : uk launched new visas open overseas scientists researchers including indians encourage growth country research sector enable work train uk maximum period two years uk government said new scheme commitment make uk open globally trading nation \n",
      "실제 요약 : said killed post accused user added would chairman \n",
      "예측 요약 :  uk launches its first ever companies\n",
      "\n",
      "\n",
      "원문 : directorate revenue intelligence set bring back pieces including three major ones stolen smuggled united states india pieces return india may officials said earlier agency managed bring back six pieces us \n",
      "실제 요약 : said court added bhatt name would added president old \n",
      "예측 요약 :  govt to build in india\n",
      "\n",
      "\n",
      "원문 : stock holding corporation india limited reportedly transferred shares worth crore united held directly vijay mallya central government enforcement directorate already started process assets mallya connection defaulted loan crore kingfisher airlines reports added \n",
      "실제 요약 : said level modi six lakh added court \n",
      "예측 요약 :  indian firm lost crore in india\n",
      "\n",
      "\n",
      "원문 : elon musk led us automaker tesla burning every minute according bloomberg analysis tesla workforce revenue per employee lower rivals ford analysis found musk earlier said company profitable cash flow positive third quarter \n",
      "실제 요약 : said senior parliament first team minutes \n",
      "예측 요약 :  tesla to tesla in tesla\n",
      "\n",
      "\n",
      "원문 : responding instagram user asked whether dating singer replied yes following commented post saying girl know true replied thought keep low wedding reports suggested singers trolling fans exchange \n",
      "실제 요약 : said customers could discovered reportedly polls \n",
      "예측 요약 :  man user shares pic of her\n",
      "\n",
      "\n",
      "원문 : launching hi campaign union home minister rajnath singh friday said india expected open defecation free october providing toilet facility home ensure safety dignity women hi campaign help improve productivity children rajnath added \n",
      "실제 요약 : said film company new user department crore fashion \n",
      "예측 요약 :  india launches new campaign to\n",
      "\n",
      "\n",
      "원문 : apple tuesday said sales china fell december quarter representing nearly billion lost revenue apple overall revenue fell billion quarter profit fell slightly billion notably iphone maker reported decline revenue profits first time years \n",
      "실제 요약 : said may shah seen india brand indian women run informed \n",
      "예측 요약 :  apple apple loses billion in cap\n",
      "\n",
      "\n",
      "원문 : pictures actress deepika padukone performing ganga mother padukone surfaced social media deepika seen wearing white pants wrapped around year old actress also visited ashram gifted ashram head \n",
      "실제 요약 : said worth even highest india \n",
      "예측 요약 :  video shows deepika with deepika\n",
      "\n",
      "\n",
      "원문 : maharashtra government new development plan mumbai legally allows functioning restaurants city currently rooftop bars restaurants operating mumbai either allowed temporary structures illegal decision comes months fire two rooftop city mills left people dead \n",
      "실제 요약 : said accused application pictures earth police india like \n",
      "예측 요약 :  maharashtra to get new\n",
      "\n",
      "\n",
      "원문 : twenty three time grand slam champion serena williams husband put four along highway california images daughter say greatest time wanted welcome back tennis designed help jr tweeted \n",
      "실제 요약 : said straight election airtel delhi us wrote \n",
      "예측 요약 :  pregnant serena to help pregnant\n",
      "\n",
      "\n",
      "원문 : evms uttar pradesh bypolls former cm akhilesh yadav tuesday said parties support use traditional ballot papers casting votes claiming faulty voting machines gujarat samajwadi party chief added looks like surat make governments also \n",
      "실제 요약 : said ready done poor action government india \n",
      "예측 요약 :  will ensure action against akhilesh to ec\n",
      "\n",
      "\n",
      "원문 : zimbabwe become second african nation production cannabis scientific purposes individual producers must citizens country whose activities subject routine health ministry prior production possession cannabis zimbabwe punishable years prison \n",
      "실제 요약 : said meant us action \n",
      "예측 요약 :  world st country to un\n",
      "\n",
      "\n",
      "원문 : us woman stuck ear nine days twenty nine year old visited hospital first day doctors thought removed however fully removed days later visited continued pain ear \n",
      "실제 요약 : said unit indian old time government cricket \n",
      "예측 요약 :  woman falls off foot in\n",
      "\n",
      "\n",
      "원문 : twitter user reacting priyanka chopra white dress th awards wrote priyanka looking like trophy girl another user wrote dress makes look like christmas tweet read priyanka wearing pull bottom \n",
      "실제 요약 : said kids month nasa kohli passengers police others \n",
      "예측 요약 :  priyanka chopra tweets user on instagram\n",
      "\n",
      "\n",
      "원문 : wheelchair bound man saturday arrested airport bangladesh trying smuggle gold bars country customs officials said calling biggest haul year man flying singapore reportedly hidden bars worth crore kept legs \n",
      "실제 요약 : said state made people come hope india suffering \n",
      "예측 요약 :  man gold worth lakh seized at delhi airport\n",
      "\n",
      "\n",
      "원문 : year old woman madhya pradesh bhopal reportedly beaten police accused hiding inside house police came house chasing protesters farmers rally nearby village injured family members well woman gone fast demanding cm shivraj singh chouhan meet \n",
      "실제 요약 : said leader earlier time seconds crore death companies us \n",
      "예측 요약 :  man of family found dead in up\n",
      "\n",
      "\n",
      "원문 : four year old student kolkata birla centre education allegedly sexually assaulted teacher inside school washroom child blood school uniform crying reports said following girl family rushed hospital registered fir teacher school authorities \n",
      "실제 요약 : said leader earlier asian approval crore sold two response school \n",
      "예측 요약 :  school teacher found dead in school school\n",
      "\n",
      "\n",
      "원문 : bank india exposure crore crore pnb fraud case bank ceo said state owned bank initiated insolvency proceedings nirav modi firms added government also intervened bankruptcy proceedings nirav modi us firms protect interests pnb \n",
      "실제 요약 : said media also film revealed years india protests head officials \n",
      "예측 요약 :  pnb cr in pnb fraud case\n",
      "\n",
      "\n",
      "원문 : defending kiss married woman south korea philippine president rodrigo duterte said resign enough women sign petition calling step year old called act said used kiss every woman campaign \n",
      "실제 요약 : said could company talks car contract thursday held woman \n",
      "예측 요약 :  we are not trump\n",
      "\n",
      "\n",
      "원문 : iran us backed iraq sunday signed agreement boost military cooperation according reports deal reportedly covers border security logistics training among provisions aimed fighting terrorism extremism comes us announced new sanctions iranian entities people ballistic missile programme \n",
      "실제 요약 : said end oil plastic ever added train \n",
      "예측 요약 :  iran sanctions for us after military deal\n",
      "\n",
      "\n",
      "원문 : bjp president amit shah challenged congress open debate development work rule compared work undertaken chhattisgarh cm raman singh pm narendra modi shah addressing rally poll bound chhattisgarh claimed bjp always politics development \n",
      "실제 요약 : said ban high added user police application \n",
      "예측 요약 :  amit shah to take time amit shah\n",
      "\n",
      "\n",
      "원문 : chief raj thackeray issued apology organisers marathi meet withdrew invitation extended writer based threats worker urging workers make statements sensitive issues without consulting thackeray said objection presence welcome added \n",
      "실제 요약 : said information government follow indian sanjay \n",
      "예측 요약 :  chief chief accused of\n",
      "\n",
      "\n",
      "원문 : rating agency moody estimated decline around million earnings state owned indian oil bharat petroleum hindustan petroleum account crude imports iran indian import crude oil imports iran us sanctions iranian oil exports take effect november \n",
      "실제 요약 : said end approved added driving injured app next \n",
      "예측 요약 :  indians paid for oil oil oil\n",
      "\n",
      "\n",
      "원문 : actor salman khan posted video social media working part fitness challenge sports minister singh rathore tweeted fitness icon taking challenge milestone promoting healthy lifestyle country salman shared video nearly three months challenged union minister kiren rijiju \n",
      "실제 요약 : said suspected singh district us job funds \n",
      "예측 요약 :  salman khan launches race\n",
      "\n",
      "\n",
      "원문 : ex australian pacer glenn talking sachin tendulkar son arjun left arm pacer said winner love passion cricket like father name like tendulkar pretty big shoes fill added year old bowling india women players \n",
      "실제 요약 : said attacks company new assam car shared revealed told \n",
      "예측 요약 :  sachin son arjun son\n",
      "\n",
      "\n",
      "원문 : uber driver fined speaking english local officials said monday according reports spanish speaking driver appeared understand police officer said good morning however uber spokesperson said law states drivers able communicate language \n",
      "실제 요약 : said received tamil finance india old us minister complete \n",
      "예측 요약 :  uber driver held for stealing data\n",
      "\n",
      "\n",
      "원문 : rishi kapoor said believe concept film franchise like making public taking name film putting part part added said film franchise never character story unfair \n",
      "실제 요약 : said friday air comes also good rose within \n",
      "예측 요약 :  rishi is an actor\n",
      "\n",
      "\n",
      "원문 : us based study nearly different human species found brain size gradually last three million years opposed series step like increases researchers compared players hitting gym shift driven increasing humans developed culture language ability make tools \n",
      "실제 요약 : said became flights india first letter supreme pakistan students \n",
      "예측 요약 :  scientists find solar system to solar\n",
      "\n",
      "\n",
      "원문 : police personnel district rajasthan sunday year old dalit groom breaking age old caste based tradition comes family members groom told police facing threats villagers decision ride instead motorcycle \n",
      "실제 요약 : said companies relief one introduced india gujarat \n",
      "예측 요약 :  up police officer who alive\n",
      "\n",
      "\n",
      "원문 : zomato begun delivering including dairy products via bengaluru service already restaurants claims crore monthly order volume claims offerings line food safety standards authority india sources products independent farmers farmer producer organisations \n",
      "실제 요약 : said permission english us cabinet \n",
      "예측 요약 :  to pay crore for electric cars in\n",
      "\n",
      "\n",
      "원문 : us based man hacked computer system former employer sentenced months jail fine crore cover cost hacking caused company man used employee account cause problems connecting network making changes \n",
      "실제 요약 : said state anushka added city years us third \n",
      "예측 요약 :  man jailed for yrs for stealing\n",
      "\n",
      "\n",
      "원문 : former cricketers chopra mitchell johnson argued twitter rating icc gave pitch used nd test india australia perth former england captain michael also agreed johnson view pitch better rating termed exciting pitch \n",
      "실제 요약 : said police house first europe \n",
      "예측 요약 :  gambhir to play odis against icc\n",
      "\n",
      "\n",
      "원문 : venezuela envoy india said south american country willing accept oil payments india rupees venezuela use money buy medicines food india added said countries trying find ways us sanctions hit venezuela oil production \n",
      "실제 요약 : said collection added internet navy india blamed \n",
      "예측 요약 :  us to raise funds from oil oil\n",
      "\n",
      "\n",
      "원문 : library england uk books library known largest surviving library system allowing visitors take book remove notably books european th century prevent stealing \n",
      "실제 요약 : said laws mumbai added india killed \n",
      "예측 요약 :  new zealand to\n",
      "\n",
      "\n",
      "원문 : tv station attacked gunmen rocket grenades tuesday afghanistan capital kabul termed incident attack freedom media adding cannot silence us come back journalists colleagues back duty tv station said \n",
      "실제 요약 : said production ministry old war shows agreed crore share \n",
      "예측 요약 :  russian missile attack on taliban\n",
      "\n",
      "\n",
      "원문 : three men allegedly gangraped woman west bengal glass bottle private parts police said according probably used bottle drinking woman year old daughter said help neighbour came rescue woman admitted hospital critical condition \n",
      "실제 요약 : said time parts india tiger india killing \n",
      "예측 요약 :  man body found dead in up\n",
      "\n",
      "\n",
      "원문 : mumbai batsman shreyas iyer hyderabad pacer mohammed included indian squad three match series new zealand ashish nehra picked first expected final match ravichandran ashwin ravindra jadeja vijay named test squad sri lanka series \n",
      "실제 요약 : said india fled spent regulator \n",
      "예측 요약 :  mumbai captain named indian team to play wickets\n",
      "\n",
      "\n",
      "원문 : congress leader shashi tharoor said bjp congress vice president rahul gandhi longer working adding public saw gandhi effective opponent ruling bjp tharoor said changed past months going behind congress claimed \n",
      "실제 요약 : said claimed also used australia minister november joined \n",
      "예측 요약 :  rahul gandhi is an party says\n",
      "\n",
      "\n",
      "원문 : year old man allegedly wife death iron rod lynched villagers district bihar wife brought hospital villagers succumbed injuries following thrashed husband police said investigating double murder \n",
      "실제 요약 : said elections state bjp released added announced \n",
      "예측 요약 :  man daughter of daughter found in up\n",
      "\n",
      "\n",
      "원문 : woman alleged harassment passport officer marriage stay lucknow year mentioned passport application form said police noida sent report regional passport office added per rules applicants address passport form least one year \n",
      "실제 요약 : said time jammu minister demanding two india coast moon tuesday \n",
      "예측 요약 :  woman who denied protection officer\n",
      "\n",
      "\n",
      "원문 : speaking ahead indian cricket team upcoming tour australia former australian team pacer said real factor india pacer jasprit bumrah action noticed bumrah swing ball away right actually said year old \n",
      "실제 요약 : said accept president council us film third system journey \n",
      "예측 요약 :  ball tampering scandal\n",
      "\n",
      "\n",
      "원문 : ends park united states diameter two feet roughly size recognised guinness world records world smallest park area initially intended light pole converted park pole arrive \n",
      "실제 요약 : said reports category reportedly president also \n",
      "예측 요약 :  sets record for the world\n",
      "\n",
      "\n",
      "원문 : per reports parts mission impossible film tom cruise starring co producing shot india film producer david earlier said tom movie believe top anything come mission impossible ghost protocol tom performed dubai \n",
      "실제 요약 : said hold added new april india film last \n",
      "예측 요약 :  to play in film report\n",
      "\n",
      "\n"
     ]
    }
   ],
   "source": [
    "for i in range(50, 100):\n",
    "    print(\"원문 :\", seq2text(encoder_input_test[i]))\n",
    "    print(\"실제 요약 :\", seq2summary(decoder_input_test[i]))\n",
    "    print(\"예측 요약 :\", decode_sequence(encoder_input_test[i].reshape(1, text_max_len)))\n",
    "    print(\"\\n\")"
   ]
  },
  {
   "cell_type": "markdown",
   "metadata": {
    "id": "ma_fjCOtdbBU"
   },
   "source": [
    "# 추출적 요약하기"
   ]
  },
  {
   "cell_type": "code",
   "execution_count": 59,
   "metadata": {
    "id": "CU7te8pudGK8"
   },
   "outputs": [],
   "source": [
    "import requests\n",
    "from summa.summarizer import summarize"
   ]
  },
  {
   "cell_type": "code",
   "execution_count": 83,
   "metadata": {
    "id": "rftUJgNbdenu"
   },
   "outputs": [],
   "source": [
    "text = requests.get('http://rare-technologies.com/the_matrix_synopsis.txt').text"
   ]
  },
  {
   "cell_type": "code",
   "execution_count": 84,
   "metadata": {
    "id": "TTtbqBqUdel7"
   },
   "outputs": [
    {
     "name": "stdout",
     "output_type": "stream",
     "text": [
      "The screen is filled with green, cascading code which gives way to the title, The Matrix.\r\n",
      "\r\n",
      "A phone rings and text appears on the screen: \"Call trans opt: received. 2-19-98 13:24:18 REC: Log>\" As a conversation takes place between Trinity (Carrie-Anne Moss) and Cypher (Joe Pantoliano), two free humans, a table of random green numbers are being scanned and individual numbers selected, creating a series of digits not unlike an ordinary phone number, as if a code is being deciphered or a call is being traced.\r\n",
      "\r\n",
      "Trinity discusses some unknown person. Cypher taunts Trinity, suggesting she enjoys watching him. Trinity counters that \"Morpheus (Laurence Fishburne) says he may be 'the One',\" just as the sound of a number being selected alerts Trinity that someone may be tracing their call. She ends the call.\r\n",
      "\r\n",
      "Armed policemen move down a darkened, decrepit hallway in the Heart O' the City Hotel, their flashlight beam bouncing just ahead of them. They come to room 303, kick down the door and find a woman dressed in black, facing away from them. It's Trinity. She brings her hands up from the laptop she's working on at their command.\r\n",
      "\r\n",
      "Outside the hotel a car drives up and three agents appear in neatly pressed black suits. They are Agent Smith (Hugo Weaving), Agent Brown (Paul Goddard), and Agent Jones (Robert Taylor). Agent Smith and the presiding police lieutenant argue. Agent Smith admonishes the policeman that they were given specific orders to contact the agents first, for their\n"
     ]
    }
   ],
   "source": [
    "print(text[:1500])"
   ]
  },
  {
   "cell_type": "markdown",
   "metadata": {
    "id": "js4nfjuudhUI"
   },
   "source": [
    "## summarize 사용하기"
   ]
  },
  {
   "cell_type": "code",
   "execution_count": 85,
   "metadata": {
    "id": "Uvr4ZKo4dej1"
   },
   "outputs": [
    {
     "name": "stdout",
     "output_type": "stream",
     "text": [
      "Summary:\n",
      "Morpheus, Trinity, Neo, Apoc, Switch, Mouse and Cypher are jacked into the Matrix.\n",
      "Trinity brings the helicopter down to the floor that Morpheus is on and Neo opens fire on the three Agents.\n"
     ]
    }
   ],
   "source": [
    "print('Summary:')\n",
    "print(summarize(text, ratio=0.005))"
   ]
  },
  {
   "cell_type": "code",
   "execution_count": 86,
   "metadata": {
    "id": "m3sn6yj_deiA"
   },
   "outputs": [
    {
     "name": "stdout",
     "output_type": "stream",
     "text": [
      "Summary:\n",
      "['Morpheus, Trinity, Neo, Apoc, Switch, Mouse and Cypher are jacked into the Matrix.', 'Trinity brings the helicopter down to the floor that Morpheus is on and Neo opens fire on the three Agents.']\n"
     ]
    }
   ],
   "source": [
    "print('Summary:')\n",
    "print(summarize(text, ratio=0.005, split=True))"
   ]
  },
  {
   "cell_type": "code",
   "execution_count": 87,
   "metadata": {
    "id": "kShRlPcodl5V"
   },
   "outputs": [
    {
     "name": "stdout",
     "output_type": "stream",
     "text": [
      "Summary:\n",
      "Trinity takes Neo to Morpheus.\n",
      "Morpheus, Trinity, Neo, Apoc, Switch, Mouse and Cypher are jacked into the Matrix.\n",
      "Trinity brings the helicopter down to the floor that Morpheus is on and Neo opens fire on the three Agents.\n"
     ]
    }
   ],
   "source": [
    "print('Summary:')\n",
    "result = summarize(text, words=50)\n",
    "print(result)"
   ]
  },
  {
   "cell_type": "code",
   "execution_count": 73,
   "metadata": {},
   "outputs": [
    {
     "name": "stdout",
     "output_type": "stream",
     "text": [
      "                                       Original Text  \\\n",
      "0  woman accused killing throat cleared sessions ...   \n",
      "\n",
      "                abstract summary  \\\n",
      "0   man accused of rape by in up   \n",
      "\n",
      "                                  Extractive summary  \n",
      "0  Trinity takes Neo to Morpheus.\\nMorpheus, Trin...  \n"
     ]
    }
   ],
   "source": [
    "df = pd.DataFrame( {\n",
    "    'Original Text': [seq2text(encoder_input_test[0])],\n",
    "    'abstract summary': [decode_sequence(encoder_input_test[0].reshape(1, text_max_len))],\n",
    "    'Extractive summary': [result]\n",
    "    })\n",
    "\n",
    "print(df)"
   ]
  },
  {
   "cell_type": "code",
   "execution_count": null,
   "metadata": {},
   "outputs": [],
   "source": []
  }
 ],
 "metadata": {
  "colab": {
   "provenance": []
  },
  "kernelspec": {
   "display_name": "Python 3 (ipykernel)",
   "language": "python",
   "name": "python3"
  },
  "language_info": {
   "codemirror_mode": {
    "name": "ipython",
    "version": 3
   },
   "file_extension": ".py",
   "mimetype": "text/x-python",
   "name": "python",
   "nbconvert_exporter": "python",
   "pygments_lexer": "ipython3",
   "version": "3.9.7"
  }
 },
 "nbformat": 4,
 "nbformat_minor": 1
}

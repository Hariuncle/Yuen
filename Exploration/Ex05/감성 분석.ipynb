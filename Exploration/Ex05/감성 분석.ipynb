{
 "cells": [
  {
   "cell_type": "code",
   "execution_count": 1,
   "id": "5d7d121d",
   "metadata": {},
   "outputs": [],
   "source": [
    "import pandas\n",
    "import konlpy\n",
    "import gensim\n",
    "import numpy as np\n",
    "import tensorflow as tf"
   ]
  },
  {
   "cell_type": "code",
   "execution_count": 2,
   "id": "7f4b997e",
   "metadata": {
    "scrolled": true
   },
   "outputs": [
    {
     "data": {
      "text/html": [
       "<div>\n",
       "<style scoped>\n",
       "    .dataframe tbody tr th:only-of-type {\n",
       "        vertical-align: middle;\n",
       "    }\n",
       "\n",
       "    .dataframe tbody tr th {\n",
       "        vertical-align: top;\n",
       "    }\n",
       "\n",
       "    .dataframe thead th {\n",
       "        text-align: right;\n",
       "    }\n",
       "</style>\n",
       "<table border=\"1\" class=\"dataframe\">\n",
       "  <thead>\n",
       "    <tr style=\"text-align: right;\">\n",
       "      <th></th>\n",
       "      <th>id</th>\n",
       "      <th>document</th>\n",
       "      <th>label</th>\n",
       "    </tr>\n",
       "  </thead>\n",
       "  <tbody>\n",
       "    <tr>\n",
       "      <th>0</th>\n",
       "      <td>9976970</td>\n",
       "      <td>아 더빙.. 진짜 짜증나네요 목소리</td>\n",
       "      <td>0</td>\n",
       "    </tr>\n",
       "    <tr>\n",
       "      <th>1</th>\n",
       "      <td>3819312</td>\n",
       "      <td>흠...포스터보고 초딩영화줄....오버연기조차 가볍지 않구나</td>\n",
       "      <td>1</td>\n",
       "    </tr>\n",
       "    <tr>\n",
       "      <th>2</th>\n",
       "      <td>10265843</td>\n",
       "      <td>너무재밓었다그래서보는것을추천한다</td>\n",
       "      <td>0</td>\n",
       "    </tr>\n",
       "    <tr>\n",
       "      <th>3</th>\n",
       "      <td>9045019</td>\n",
       "      <td>교도소 이야기구먼 ..솔직히 재미는 없다..평점 조정</td>\n",
       "      <td>0</td>\n",
       "    </tr>\n",
       "    <tr>\n",
       "      <th>4</th>\n",
       "      <td>6483659</td>\n",
       "      <td>사이몬페그의 익살스런 연기가 돋보였던 영화!스파이더맨에서 늙어보이기만 했던 커스틴 ...</td>\n",
       "      <td>1</td>\n",
       "    </tr>\n",
       "  </tbody>\n",
       "</table>\n",
       "</div>"
      ],
      "text/plain": [
       "         id                                           document  label\n",
       "0   9976970                                아 더빙.. 진짜 짜증나네요 목소리      0\n",
       "1   3819312                  흠...포스터보고 초딩영화줄....오버연기조차 가볍지 않구나      1\n",
       "2  10265843                                  너무재밓었다그래서보는것을추천한다      0\n",
       "3   9045019                      교도소 이야기구먼 ..솔직히 재미는 없다..평점 조정      0\n",
       "4   6483659  사이몬페그의 익살스런 연기가 돋보였던 영화!스파이더맨에서 늙어보이기만 했던 커스틴 ...      1"
      ]
     },
     "execution_count": 2,
     "metadata": {},
     "output_type": "execute_result"
    }
   ],
   "source": [
    "import pandas as pd\n",
    "\n",
    "# 데이터를 읽어봅시다. \n",
    "train_data = pd.read_table('data/ratings_train.txt')\n",
    "test_data = pd.read_table('data/ratings_test.txt')\n",
    "\n",
    "train_data.head()"
   ]
  },
  {
   "cell_type": "code",
   "execution_count": 3,
   "id": "824c1163",
   "metadata": {},
   "outputs": [],
   "source": [
    "from konlpy.tag import Mecab\n",
    "import numpy as np\n",
    "from collections import Counter\n",
    "\n",
    "tokenizer = Mecab()\n",
    "stopwords = ['의','가','이','은','들','는','좀','잘','걍','과','도','를','으로','자','에','와','한','하다']\n",
    "\n",
    "def load_data(train_data, test_data, num_words=10000):\n",
    "    train_data.drop_duplicates(subset=['document'], inplace=True)\n",
    "    train_data = train_data.dropna(how = 'any') \n",
    "    test_data.drop_duplicates(subset=['document'], inplace=True)\n",
    "    test_data = test_data.dropna(how = 'any') \n",
    "    \n",
    "    X_train = []\n",
    "    for sentence in train_data['document']:\n",
    "        temp_X = tokenizer.morphs(sentence) # 토큰화\n",
    "        temp_X = [word for word in temp_X if not word in stopwords] # 불용어 제거\n",
    "        X_train.append(temp_X)\n",
    "\n",
    "    X_test = []\n",
    "    for sentence in test_data['document']:\n",
    "        temp_X = tokenizer.morphs(sentence) # 토큰화\n",
    "        temp_X = [word for word in temp_X if not word in stopwords] # 불용어 제거\n",
    "        X_test.append(temp_X)\n",
    "    \n",
    "    words = np.concatenate(X_train).tolist()\n",
    "    counter = Counter(words)\n",
    "    counter = counter.most_common(10000-4)\n",
    "    vocab = ['<PAD>', '<BOS>', '<UNK>', ''] + [key for key, _ in counter]\n",
    "    word_to_index = {word:index for index, word in enumerate(vocab)}\n",
    "        \n",
    "    def wordlist_to_indexlist(wordlist):\n",
    "        return [word_to_index[word] if word in word_to_index else word_to_index[''] for word in wordlist]\n",
    "        \n",
    "    X_train = list(map(wordlist_to_indexlist, X_train))\n",
    "    X_test = list(map(wordlist_to_indexlist, X_test))\n",
    "        \n",
    "    return X_train, np.array(list(train_data['label'])), X_test, np.array(list(test_data['label'])), word_to_index\n",
    "\n",
    "X_train, y_train, X_test, y_test, word_to_index = load_data(train_data, test_data)"
   ]
  },
  {
   "cell_type": "code",
   "execution_count": 4,
   "id": "c55db5eb",
   "metadata": {},
   "outputs": [],
   "source": [
    "index_to_word = {index:word for word, index in word_to_index.items()}"
   ]
  },
  {
   "cell_type": "code",
   "execution_count": 5,
   "id": "3fd05b3a",
   "metadata": {},
   "outputs": [],
   "source": [
    "# 문장 1개를 활용할 딕셔너리와 함께 주면, 단어 인덱스 리스트 벡터로 변환해 주는 함수입니다. \n",
    "# 단, 모든 문장은 <BOS>로 시작하는 것으로 합니다. \n",
    "def get_encoded_sentence(sentence, word_to_index):\n",
    "    return [word_to_index['<BOS>']]+[word_to_index[word] if word in word_to_index else word_to_index['<UNK>'] for word in sentence.split()]\n",
    "\n",
    "# 여러 개의 문장 리스트를 한꺼번에 단어 인덱스 리스트 벡터로 encode해 주는 함수입니다. \n",
    "def get_encoded_sentences(sentences, word_to_index):\n",
    "    return [get_encoded_sentence(sentence, word_to_index) for sentence in sentences]\n",
    "\n",
    "# 숫자 벡터로 encode된 문장을 원래대로 decode하는 함수입니다. \n",
    "def get_decoded_sentence(encoded_sentence, index_to_word):\n",
    "    return ' '.join(index_to_word[index] if index in index_to_word else '<UNK>' for index in encoded_sentence[1:])  #[1:]를 통해 <BOS>를 제외\n",
    "\n",
    "# 여러 개의 숫자 벡터로 encode된 문장을 한꺼번에 원래대로 decode하는 함수입니다. \n",
    "def get_decoded_sentences(encoded_sentences, index_to_word):\n",
    "    return [get_decoded_sentence(encoded_sentence, index_to_word) for encoded_sentence in encoded_sentences]"
   ]
  },
  {
   "cell_type": "code",
   "execution_count": 6,
   "id": "66a3f0c0",
   "metadata": {},
   "outputs": [
    {
     "name": "stdout",
     "output_type": "stream",
     "text": [
      "더 빙 . . 진짜 짜증 나 네요 목소리\n"
     ]
    }
   ],
   "source": [
    "print(get_decoded_sentence(X_train[0], index_to_word))"
   ]
  },
  {
   "cell_type": "code",
   "execution_count": 7,
   "id": "d5707aa5",
   "metadata": {},
   "outputs": [
    {
     "name": "stdout",
     "output_type": "stream",
     "text": [
      "<PAD>\n",
      "시간\n",
      "드라마 귀신 <UNK> <UNK> 같 씨 없 음 달\n"
     ]
    }
   ],
   "source": [
    "#실제 인코딩 인덱스는 제공된 word_to_index에서 index 기준으로 3씩 뒤로 밀려 있습니다.  \n",
    "word_to_index = {k:(v+3) for k,v in word_to_index.items()}\n",
    "\n",
    "# 처음 몇 개 인덱스는 사전에 정의되어 있습니다.\n",
    "word_to_index[\"<PAD>\"] = 0\n",
    "word_to_index[\"<BOS>\"] = 1\n",
    "word_to_index[\"<UNK>\"] = 2  # unknown\n",
    "\n",
    "index_to_word = {index:word for word, index in word_to_index.items()}\n",
    "\n",
    "print(index_to_word[0])     # '<BOS>' 가 출력됩니다.  \n",
    "print(index_to_word[98])     # 'the' 가 출력됩니다.\n",
    "\n",
    "# 보정 후 x_train[0] 데이터\n",
    "print(get_decoded_sentence(X_train[0], index_to_word))"
   ]
  },
  {
   "cell_type": "code",
   "execution_count": 8,
   "id": "ca97bfcb",
   "metadata": {},
   "outputs": [
    {
     "name": "stdout",
     "output_type": "stream",
     "text": [
      "문장길이 평균 :  15.96940191154864\n",
      "문장길이 최대 :  116\n",
      "문장길이 표준편차 :  12.843571191092\n",
      "pad_sequences maxlen :  41\n",
      "전체 문장의 0.9342988343341575%가 maxlen 설정값 이내에 포함됩니다. \n"
     ]
    }
   ],
   "source": [
    "total_data_text = list(X_train) + list(X_test)\n",
    "# 텍스트데이터 문장길이의 리스트를 생성한 후\n",
    "num_tokens = [len(tokens) for tokens in total_data_text]\n",
    "num_tokens = np.array(num_tokens)\n",
    "# 문장길이의 평균값, 최대값, 표준편차를 계산해 본다. \n",
    "print('문장길이 평균 : ', np.mean(num_tokens))\n",
    "print('문장길이 최대 : ', np.max(num_tokens))\n",
    "print('문장길이 표준편차 : ', np.std(num_tokens))\n",
    "\n",
    "# 예를들어, 최대 길이를 (평균 + 2*표준편차)로 한다면,  \n",
    "max_tokens = np.mean(num_tokens) + 2 * np.std(num_tokens)\n",
    "maxlen = int(max_tokens)\n",
    "print('pad_sequences maxlen : ', maxlen)\n",
    "print(f'전체 문장의 {np.sum(num_tokens < max_tokens) / len(num_tokens)}%가 maxlen 설정값 이내에 포함됩니다. ')"
   ]
  },
  {
   "cell_type": "code",
   "execution_count": 9,
   "id": "8f238223",
   "metadata": {},
   "outputs": [
    {
     "name": "stdout",
     "output_type": "stream",
     "text": [
      "(146182, 41)\n"
     ]
    }
   ],
   "source": [
    "X_train = tf.keras.preprocessing.sequence.pad_sequences(X_train,\n",
    "                                                        value=word_to_index[\"<PAD>\"],\n",
    "                                                        padding='pre', # 혹은 'pre'\n",
    "                                                        maxlen=maxlen)\n",
    "\n",
    "X_test = tf.keras.preprocessing.sequence.pad_sequences(X_test,\n",
    "                                                       value=word_to_index[\"<PAD>\"],\n",
    "                                                       padding='pre', # 혹은 'pre'\n",
    "                                                       maxlen=maxlen)\n",
    "\n",
    "print(X_train.shape)"
   ]
  },
  {
   "cell_type": "markdown",
   "id": "d43f8c3d",
   "metadata": {},
   "source": [
    "## LSTM 모델, Conv1D + LSTM 모델"
   ]
  },
  {
   "cell_type": "code",
   "execution_count": 10,
   "id": "3f673dc6",
   "metadata": {},
   "outputs": [
    {
     "name": "stdout",
     "output_type": "stream",
     "text": [
      "Model: \"sequential_1\"\n",
      "_________________________________________________________________\n",
      "Layer (type)                 Output Shape              Param #   \n",
      "=================================================================\n",
      "embedding_1 (Embedding)      (None, None, 100)         1000000   \n",
      "_________________________________________________________________\n",
      "conv1d (Conv1D)              (None, None, 256)         77056     \n",
      "_________________________________________________________________\n",
      "lstm_1 (LSTM)                (None, 64)                82176     \n",
      "_________________________________________________________________\n",
      "dense_2 (Dense)              (None, 128)               8320      \n",
      "_________________________________________________________________\n",
      "dropout_1 (Dropout)          (None, 128)               0         \n",
      "_________________________________________________________________\n",
      "dense_3 (Dense)              (None, 1)                 129       \n",
      "=================================================================\n",
      "Total params: 1,167,681\n",
      "Trainable params: 1,167,681\n",
      "Non-trainable params: 0\n",
      "_________________________________________________________________\n"
     ]
    }
   ],
   "source": [
    "from tensorflow.keras.models import Sequential\n",
    "from tensorflow.keras.layers import Embedding, Dropout, Conv1D, GlobalMaxPooling1D, Dense\n",
    "from tensorflow.keras.callbacks import EarlyStopping, ModelCheckpoint\n",
    "from tensorflow.keras.models import load_model\n",
    "\n",
    "vocab_size = len(word_to_index) # 어휘 사전의 크기입니다\n",
    "word_vector_dim = 100   # 단어 하나를 표현하는 임베딩 벡터의 차원 수입니다.\n",
    "dropout_ratio = 0.2 # 드롭아웃 비율\n",
    "num_filters = 256 # 커널의 수\n",
    "kernel_size = 3 # 커널의 크기\n",
    "hidden_units = 128 # 뉴런의 수\n",
    "\n",
    "from tensorflow.keras.layers import LSTM\n",
    "\n",
    "model = Sequential()\n",
    "model.add(Embedding(vocab_size, word_vector_dim))\n",
    "model.add(LSTM(64, return_sequences=True))  # LSTM 추가\n",
    "model.add(GlobalMaxPooling1D())\n",
    "model.add(Dense(hidden_units, activation='relu'))\n",
    "model.add(Dropout(dropout_ratio))\n",
    "model.add(Dense(1, activation='sigmoid'))\n",
    "\n",
    "model = Sequential()\n",
    "model.add(Embedding(vocab_size, word_vector_dim))\n",
    "model.add(Conv1D(num_filters, kernel_size, padding='valid', activation='relu'))\n",
    "model.add(LSTM(64))  # Conv1D 뒤에 LSTM 추가\n",
    "model.add(Dense(hidden_units, activation='relu'))\n",
    "model.add(Dropout(dropout_ratio))\n",
    "model.add(Dense(1, activation='sigmoid'))\n",
    "\n",
    "es = EarlyStopping(monitor='val_loss', mode='min', verbose=1, patience=3)\n",
    "mc = ModelCheckpoint('best_model.h5', monitor='val_acc', mode='max', verbose=1, save_best_only=True)\n",
    "\n",
    "model.summary()"
   ]
  },
  {
   "cell_type": "code",
   "execution_count": 11,
   "id": "19f953d0",
   "metadata": {},
   "outputs": [
    {
     "name": "stdout",
     "output_type": "stream",
     "text": [
      "(136182, 41)\n",
      "(136182,)\n"
     ]
    }
   ],
   "source": [
    "x_val = X_train[:10000]   \n",
    "y_val = y_train[:10000]\n",
    "\n",
    "# validation set을 제외한 나머지 15000건\n",
    "partial_x_train = X_train[10000:]  \n",
    "partial_y_train = y_train[10000:]\n",
    "\n",
    "print(partial_x_train.shape)\n",
    "print(partial_y_train.shape)"
   ]
  },
  {
   "cell_type": "code",
   "execution_count": 12,
   "id": "4de2530d",
   "metadata": {},
   "outputs": [
    {
     "name": "stdout",
     "output_type": "stream",
     "text": [
      "Epoch 1/30\n",
      "532/532 [==============================] - 56s 10ms/step - loss: 0.3765 - accuracy: 0.8304 - val_loss: 0.3202 - val_accuracy: 0.8588\n",
      "WARNING:tensorflow:Can save best model only with val_acc available, skipping.\n",
      "Epoch 2/30\n",
      "532/532 [==============================] - 4s 8ms/step - loss: 0.2898 - accuracy: 0.8769 - val_loss: 0.3119 - val_accuracy: 0.8633\n",
      "WARNING:tensorflow:Can save best model only with val_acc available, skipping.\n",
      "Epoch 3/30\n",
      "532/532 [==============================] - 4s 8ms/step - loss: 0.2479 - accuracy: 0.8972 - val_loss: 0.3167 - val_accuracy: 0.8647\n",
      "WARNING:tensorflow:Can save best model only with val_acc available, skipping.\n",
      "Epoch 4/30\n",
      "532/532 [==============================] - 4s 8ms/step - loss: 0.2061 - accuracy: 0.9179 - val_loss: 0.3553 - val_accuracy: 0.8540\n",
      "WARNING:tensorflow:Can save best model only with val_acc available, skipping.\n",
      "Epoch 5/30\n",
      "532/532 [==============================] - 4s 8ms/step - loss: 0.1679 - accuracy: 0.9357 - val_loss: 0.3945 - val_accuracy: 0.8600\n",
      "WARNING:tensorflow:Can save best model only with val_acc available, skipping.\n",
      "Epoch 00005: early stopping\n"
     ]
    }
   ],
   "source": [
    "model.compile(optimizer='adam',\n",
    "              loss='binary_crossentropy',\n",
    "              metrics=['accuracy'])\n",
    "              \n",
    "epochs=30  # 몇 epoch를 훈련하면 좋을지 결과를 보면서 바꾸어 봅시다. \n",
    "\n",
    "history = model.fit(partial_x_train,\n",
    "                    partial_y_train,\n",
    "                    epochs=epochs,\n",
    "                    batch_size=256,\n",
    "                    validation_data=(x_val, y_val),\n",
    "                    callbacks=[es, mc],\n",
    "                    verbose=1)"
   ]
  },
  {
   "cell_type": "code",
   "execution_count": 13,
   "id": "66c0364d",
   "metadata": {},
   "outputs": [
    {
     "name": "stdout",
     "output_type": "stream",
     "text": [
      "1537/1537 - 4s - loss: 0.3964 - accuracy: 0.8575\n",
      "[0.3963925540447235, 0.857538104057312]\n"
     ]
    }
   ],
   "source": [
    "results = model.evaluate(X_test,  y_test, verbose=2)\n",
    "\n",
    "print(results)"
   ]
  },
  {
   "cell_type": "code",
   "execution_count": 14,
   "id": "73d6897f",
   "metadata": {},
   "outputs": [
    {
     "name": "stdout",
     "output_type": "stream",
     "text": [
      "dict_keys(['loss', 'accuracy', 'val_loss', 'val_accuracy'])\n"
     ]
    },
    {
     "data": {
      "image/png": "[encoded data removed]",
      "text/plain": [
       "<Figure size 432x288 with 1 Axes>"
      ]
     },
     "metadata": {
      "needs_background": "light"
     },
     "output_type": "display_data"
    }
   ],
   "source": [
    "history_dict = history.history\n",
    "print(history_dict.keys()) # epoch에 따른 그래프를 그려볼 수 있는 항목들\n",
    "import matplotlib.pyplot as plt\n",
    "\n",
    "acc = history_dict['accuracy']\n",
    "val_acc = history_dict['val_accuracy']\n",
    "loss = history_dict['loss']\n",
    "val_loss = history_dict['val_loss']\n",
    "\n",
    "epochs = range(1, len(acc) + 1)\n",
    "\n",
    "# \"bo\"는 \"파란색 점\"입니다\n",
    "plt.plot(epochs, loss, 'bo', label='Training loss')\n",
    "# b는 \"파란 실선\"입니다\n",
    "plt.plot(epochs, val_loss, 'b', label='Validation loss')\n",
    "plt.title('Training and validation loss')\n",
    "plt.xlabel('Epochs')\n",
    "plt.ylabel('Loss')\n",
    "plt.legend()\n",
    "\n",
    "plt.show()"
   ]
  },
  {
   "cell_type": "code",
   "execution_count": 15,
   "id": "99ab3822",
   "metadata": {},
   "outputs": [
    {
     "data": {
      "image/png": "[encoded data removed]",
      "text/plain": [
       "<Figure size 432x288 with 1 Axes>"
      ]
     },
     "metadata": {
      "needs_background": "light"
     },
     "output_type": "display_data"
    }
   ],
   "source": [
    "plt.clf()   # 그림을 초기화합니다\n",
    "\n",
    "plt.plot(epochs, acc, 'bo', label='Training acc')\n",
    "plt.plot(epochs, val_acc, 'b', label='Validation acc')\n",
    "plt.title('Training and validation accuracy')\n",
    "plt.xlabel('Epochs')\n",
    "plt.ylabel('Accuracy')\n",
    "plt.legend()\n",
    "\n",
    "plt.show()"
   ]
  },
  {
   "cell_type": "markdown",
   "id": "15e89321",
   "metadata": {},
   "source": [
    "## GRU 모델"
   ]
  },
  {
   "cell_type": "code",
   "execution_count": 16,
   "id": "224dc95d",
   "metadata": {},
   "outputs": [
    {
     "name": "stdout",
     "output_type": "stream",
     "text": [
      "Model: \"sequential_2\"\n",
      "_________________________________________________________________\n",
      "Layer (type)                 Output Shape              Param #   \n",
      "=================================================================\n",
      "embedding_2 (Embedding)      (None, None, 100)         1000000   \n",
      "_________________________________________________________________\n",
      "gru (GRU)                    (None, None, 64)          31872     \n",
      "_________________________________________________________________\n",
      "global_max_pooling1d_1 (Glob (None, 64)                0         \n",
      "_________________________________________________________________\n",
      "dense_4 (Dense)              (None, 128)               8320      \n",
      "_________________________________________________________________\n",
      "dropout_2 (Dropout)          (None, 128)               0         \n",
      "_________________________________________________________________\n",
      "dense_5 (Dense)              (None, 1)                 129       \n",
      "=================================================================\n",
      "Total params: 1,040,321\n",
      "Trainable params: 1,040,321\n",
      "Non-trainable params: 0\n",
      "_________________________________________________________________\n",
      "Epoch 1/30\n",
      "532/532 [==============================] - 5s 6ms/step - loss: 0.3907 - accuracy: 0.8239 - val_loss: 0.3245 - val_accuracy: 0.8567\n",
      "WARNING:tensorflow:Can save best model only with val_acc available, skipping.\n",
      "Epoch 2/30\n",
      "532/532 [==============================] - 3s 5ms/step - loss: 0.2929 - accuracy: 0.8765 - val_loss: 0.3110 - val_accuracy: 0.8642\n",
      "WARNING:tensorflow:Can save best model only with val_acc available, skipping.\n",
      "Epoch 3/30\n",
      "532/532 [==============================] - 3s 5ms/step - loss: 0.2508 - accuracy: 0.8974 - val_loss: 0.3180 - val_accuracy: 0.8664\n",
      "WARNING:tensorflow:Can save best model only with val_acc available, skipping.\n",
      "Epoch 4/30\n",
      "532/532 [==============================] - 3s 5ms/step - loss: 0.2114 - accuracy: 0.9162 - val_loss: 0.3382 - val_accuracy: 0.8666\n",
      "WARNING:tensorflow:Can save best model only with val_acc available, skipping.\n",
      "Epoch 5/30\n",
      "532/532 [==============================] - 3s 5ms/step - loss: 0.1720 - accuracy: 0.9331 - val_loss: 0.3670 - val_accuracy: 0.8604\n",
      "WARNING:tensorflow:Can save best model only with val_acc available, skipping.\n",
      "Epoch 00005: early stopping\n"
     ]
    }
   ],
   "source": [
    "from tensorflow.keras.layers import GRU\n",
    "\n",
    "gru_model = Sequential([\n",
    "    Embedding(vocab_size, word_vector_dim),\n",
    "    GRU(64, return_sequences=True),\n",
    "    GlobalMaxPooling1D(),\n",
    "    Dense(hidden_units, activation='relu'),\n",
    "    Dropout(dropout_ratio),\n",
    "    Dense(1, activation='sigmoid')\n",
    "])\n",
    "\n",
    "gru_model.compile(optimizer='adam', loss='binary_crossentropy', metrics=['accuracy'])\n",
    "\n",
    "gru_model.summary()\n",
    "\n",
    "# GRU 모델 학습\n",
    "gru_history = gru_model.fit(partial_x_train, partial_y_train, epochs=30, batch_size=256,\n",
    "                            validation_data=(x_val, y_val), callbacks=[es, mc], verbose=1)\n"
   ]
  },
  {
   "cell_type": "code",
   "execution_count": 17,
   "id": "bc7f1f23",
   "metadata": {},
   "outputs": [
    {
     "name": "stdout",
     "output_type": "stream",
     "text": [
      "1537/1537 - 3s - loss: 0.3800 - accuracy: 0.8538\n",
      "[0.37998032569885254, 0.8537746667861938]\n"
     ]
    }
   ],
   "source": [
    "results = gru_model.evaluate(X_test,  y_test, verbose=2)\n",
    "\n",
    "print(results)"
   ]
  },
  {
   "cell_type": "code",
   "execution_count": 18,
   "id": "b9e25127",
   "metadata": {},
   "outputs": [
    {
     "name": "stdout",
     "output_type": "stream",
     "text": [
      "dict_keys(['loss', 'accuracy', 'val_loss', 'val_accuracy'])\n"
     ]
    },
    {
     "data": {
      "image/png": "[encoded data removed]",
      "text/plain": [
       "<Figure size 432x288 with 1 Axes>"
      ]
     },
     "metadata": {
      "needs_background": "light"
     },
     "output_type": "display_data"
    }
   ],
   "source": [
    "history_dict = gru_history.history\n",
    "print(history_dict.keys()) # epoch에 따른 그래프를 그려볼 수 있는 항목들\n",
    "import matplotlib.pyplot as plt\n",
    "\n",
    "acc = history_dict['accuracy']\n",
    "val_acc = history_dict['val_accuracy']\n",
    "loss = history_dict['loss']\n",
    "val_loss = history_dict['val_loss']\n",
    "\n",
    "epochs = range(1, len(acc) + 1)\n",
    "\n",
    "# \"bo\"는 \"파란색 점\"입니다\n",
    "plt.plot(epochs, loss, 'bo', label='Training loss')\n",
    "# b는 \"파란 실선\"입니다\n",
    "plt.plot(epochs, val_loss, 'b', label='Validation loss')\n",
    "plt.title('Training and validation loss')\n",
    "plt.xlabel('Epochs')\n",
    "plt.ylabel('Loss')\n",
    "plt.legend()\n",
    "\n",
    "plt.show()"
   ]
  },
  {
   "cell_type": "code",
   "execution_count": 19,
   "id": "63f5832e",
   "metadata": {},
   "outputs": [
    {
     "data": {
      "image/png": "[encoded data removed]",
      "text/plain": [
       "<Figure size 432x288 with 1 Axes>"
      ]
     },
     "metadata": {
      "needs_background": "light"
     },
     "output_type": "display_data"
    }
   ],
   "source": [
    "plt.clf()   # 그림을 초기화합니다\n",
    "\n",
    "plt.plot(epochs, acc, 'bo', label='Training acc')\n",
    "plt.plot(epochs, val_acc, 'b', label='Validation acc')\n",
    "plt.title('Training and validation accuracy')\n",
    "plt.xlabel('Epochs')\n",
    "plt.ylabel('Accuracy')\n",
    "plt.legend()\n",
    "\n",
    "plt.show()"
   ]
  },
  {
   "cell_type": "markdown",
   "id": "01270c56",
   "metadata": {},
   "source": [
    "## CNN 모델"
   ]
  },
  {
   "cell_type": "code",
   "execution_count": 20,
   "id": "9421288c",
   "metadata": {},
   "outputs": [
    {
     "name": "stdout",
     "output_type": "stream",
     "text": [
      "Model: \"sequential_3\"\n",
      "_________________________________________________________________\n",
      "Layer (type)                 Output Shape              Param #   \n",
      "=================================================================\n",
      "embedding_3 (Embedding)      (None, None, 100)         1000000   \n",
      "_________________________________________________________________\n",
      "conv1d_1 (Conv1D)            (None, None, 128)         64128     \n",
      "_________________________________________________________________\n",
      "global_max_pooling1d_2 (Glob (None, 128)               0         \n",
      "_________________________________________________________________\n",
      "dense_6 (Dense)              (None, 128)               16512     \n",
      "_________________________________________________________________\n",
      "dropout_3 (Dropout)          (None, 128)               0         \n",
      "_________________________________________________________________\n",
      "dense_7 (Dense)              (None, 1)                 129       \n",
      "=================================================================\n",
      "Total params: 1,080,769\n",
      "Trainable params: 1,080,769\n",
      "Non-trainable params: 0\n",
      "_________________________________________________________________\n",
      "Epoch 1/30\n",
      "532/532 [==============================] - 4s 5ms/step - loss: 0.3807 - accuracy: 0.8266 - val_loss: 0.3111 - val_accuracy: 0.8657\n",
      "WARNING:tensorflow:Can save best model only with val_acc available, skipping.\n",
      "Epoch 2/30\n",
      "532/532 [==============================] - 3s 5ms/step - loss: 0.2636 - accuracy: 0.8929 - val_loss: 0.3041 - val_accuracy: 0.8700\n",
      "WARNING:tensorflow:Can save best model only with val_acc available, skipping.\n",
      "Epoch 3/30\n",
      "532/532 [==============================] - 3s 5ms/step - loss: 0.1817 - accuracy: 0.9318 - val_loss: 0.3477 - val_accuracy: 0.8649\n",
      "WARNING:tensorflow:Can save best model only with val_acc available, skipping.\n",
      "Epoch 4/30\n",
      "532/532 [==============================] - 3s 5ms/step - loss: 0.1061 - accuracy: 0.9627 - val_loss: 0.4162 - val_accuracy: 0.8571\n",
      "WARNING:tensorflow:Can save best model only with val_acc available, skipping.\n",
      "Epoch 5/30\n",
      "532/532 [==============================] - 3s 5ms/step - loss: 0.0598 - accuracy: 0.9796 - val_loss: 0.5079 - val_accuracy: 0.8517\n",
      "WARNING:tensorflow:Can save best model only with val_acc available, skipping.\n",
      "Epoch 00005: early stopping\n"
     ]
    }
   ],
   "source": [
    "cnn_model = Sequential([\n",
    "    Embedding(vocab_size, word_vector_dim),\n",
    "    Conv1D(filters=128, kernel_size=5, padding='valid', activation='relu'),\n",
    "    GlobalMaxPooling1D(),\n",
    "    Dense(hidden_units, activation='relu'),\n",
    "    Dropout(dropout_ratio),\n",
    "    Dense(1, activation='sigmoid')\n",
    "])\n",
    "\n",
    "cnn_model.compile(optimizer='adam', loss='binary_crossentropy', metrics=['accuracy'])\n",
    "\n",
    "cnn_model.summary()\n",
    "\n",
    "# CNN 모델 학습\n",
    "cnn_history = cnn_model.fit(partial_x_train, partial_y_train, epochs=30, batch_size=256,\n",
    "                            validation_data=(x_val, y_val), callbacks=[es, mc], verbose=1)\n"
   ]
  },
  {
   "cell_type": "code",
   "execution_count": 21,
   "id": "8b16cdf4",
   "metadata": {},
   "outputs": [
    {
     "name": "stdout",
     "output_type": "stream",
     "text": [
      "1537/1537 - 2s - loss: 0.5404 - accuracy: 0.8481\n",
      "[0.5403572916984558, 0.8480786085128784]\n"
     ]
    }
   ],
   "source": [
    "results = cnn_model.evaluate(X_test,  y_test, verbose=2)\n",
    "\n",
    "print(results)"
   ]
  },
  {
   "cell_type": "code",
   "execution_count": 22,
   "id": "237bfc8d",
   "metadata": {},
   "outputs": [
    {
     "name": "stdout",
     "output_type": "stream",
     "text": [
      "dict_keys(['loss', 'accuracy', 'val_loss', 'val_accuracy'])\n"
     ]
    },
    {
     "data": {
      "image/png": "[encoded data removed]",
      "text/plain": [
       "<Figure size 432x288 with 1 Axes>"
      ]
     },
     "metadata": {
      "needs_background": "light"
     },
     "output_type": "display_data"
    }
   ],
   "source": [
    "history_dict = cnn_history.history\n",
    "print(history_dict.keys()) # epoch에 따른 그래프를 그려볼 수 있는 항목들\n",
    "import matplotlib.pyplot as plt\n",
    "\n",
    "acc = history_dict['accuracy']\n",
    "val_acc = history_dict['val_accuracy']\n",
    "loss = history_dict['loss']\n",
    "val_loss = history_dict['val_loss']\n",
    "\n",
    "epochs = range(1, len(acc) + 1)\n",
    "\n",
    "# \"bo\"는 \"파란색 점\"입니다\n",
    "plt.plot(epochs, loss, 'bo', label='Training loss')\n",
    "# b는 \"파란 실선\"입니다\n",
    "plt.plot(epochs, val_loss, 'b', label='Validation loss')\n",
    "plt.title('Training and validation loss')\n",
    "plt.xlabel('Epochs')\n",
    "plt.ylabel('Loss')\n",
    "plt.legend()\n",
    "\n",
    "plt.show()"
   ]
  },
  {
   "cell_type": "code",
   "execution_count": 23,
   "id": "4da21978",
   "metadata": {},
   "outputs": [
    {
     "data": {
      "image/png": "[encoded data removed]",
      "text/plain": [
       "<Figure size 432x288 with 1 Axes>"
      ]
     },
     "metadata": {
      "needs_background": "light"
     },
     "output_type": "display_data"
    }
   ],
   "source": [
    "plt.clf()   # 그림을 초기화합니다\n",
    "\n",
    "plt.plot(epochs, acc, 'bo', label='Training acc')\n",
    "plt.plot(epochs, val_acc, 'b', label='Validation acc')\n",
    "plt.title('Training and validation accuracy')\n",
    "plt.xlabel('Epochs')\n",
    "plt.ylabel('Accuracy')\n",
    "plt.legend()\n",
    "\n",
    "plt.show()"
   ]
  },
  {
   "cell_type": "markdown",
   "id": "d029a60c",
   "metadata": {},
   "source": [
    "# 2. gensim을 활용한 비교"
   ]
  },
  {
   "cell_type": "code",
   "execution_count": 36,
   "id": "55ecde53",
   "metadata": {},
   "outputs": [
    {
     "name": "stdout",
     "output_type": "stream",
     "text": [
      "자체 학습된 Word2Vec 유사 단어:\n",
      "[('드라마', 0.6874570250511169), ('작품', 0.6185590028762817), ('애니메이션', 0.6056032180786133), ('애니', 0.5887455344200134), ('수작', 0.5404873490333557)]\n",
      "사전 학습된 Word2Vec 유사 단어:\n",
      "[('드라마', 0.8418774008750916), ('뮤지컬', 0.7775140404701233), ('코미디', 0.7489107251167297), ('다큐멘터리', 0.7401294708251953), ('헐리우드', 0.7397844195365906)]\n"
     ]
    }
   ],
   "source": [
    "from gensim.models import Word2Vec\n",
    "from konlpy.tag import Mecab\n",
    "\n",
    "# Mecab 형태소 분석기 초기화\n",
    "tokenizer = Mecab()\n",
    "\n",
    "# Word2Vec 학습 데이터 준비 (토큰화 적용)\n",
    "train_corpus = [tokenizer.morphs(sentence) for sentence in train_data['document'].dropna()]\n",
    "test_corpus = [tokenizer.morphs(sentence) for sentence in test_data['document'].dropna()]\n",
    "\n",
    "# 전체 학습용 말뭉치 데이터 생성\n",
    "word2vec_corpus = train_corpus + test_corpus  \n",
    "\n",
    "# Word2Vec 모델 학습\n",
    "word2vec_model = Word2Vec(sentences=word2vec_corpus, vector_size=100, window=5, min_count=5, workers=4, sg=0)  # CBOW 방식 사용\n",
    "\n",
    "# 모델 저장\n",
    "word2vec_model.save(\"word2vec_model\")\n",
    "\n",
    "# 유사 단어 비교\n",
    "print(\"자체 학습된 Word2Vec 유사 단어:\")\n",
    "print(word2vec_model.wv.most_similar(\"영화\", topn=5))\n",
    "\n",
    "# 사전 학습된 Word2Vec 모델 로드\n",
    "from gensim.models import KeyedVectors\n",
    "\n",
    "pretrained_w2v_path = \"../../data/word2vec_ko.model\"  # 사전 학습된 Word2Vec 모델 경로\n",
    "pretrained_w2v = KeyedVectors.load(pretrained_w2v_path)\n",
    "\n",
    "print(\"사전 학습된 Word2Vec 유사 단어:\")\n",
    "print(pretrained_w2v.wv.most_similar(\"영화\", topn=5))\n"
   ]
  },
  {
   "cell_type": "markdown",
   "id": "6d3826a5",
   "metadata": {},
   "source": [
    "# 3. Word2Vec을 적용하여 성능 향상"
   ]
  },
  {
   "cell_type": "code",
   "execution_count": 53,
   "id": "116e89cf",
   "metadata": {},
   "outputs": [
    {
     "name": "stdout",
     "output_type": "stream",
     "text": [
      "WARNING:tensorflow:Layer lstm_15 will not use cuDNN kernels since it doesn't meet the criteria. It will use a generic GPU kernel as fallback when running on GPU.\n",
      "WARNING:tensorflow:Layer lstm_15 will not use cuDNN kernels since it doesn't meet the criteria. It will use a generic GPU kernel as fallback when running on GPU.\n",
      "WARNING:tensorflow:Layer lstm_15 will not use cuDNN kernels since it doesn't meet the criteria. It will use a generic GPU kernel as fallback when running on GPU.\n",
      "Epoch 1/30\n",
      "532/532 [==============================] - 162s 295ms/step - loss: 0.8440 - accuracy: 0.7310 - val_loss: 0.4562 - val_accuracy: 0.7943\n",
      "Epoch 2/30\n",
      "532/532 [==============================] - 155s 291ms/step - loss: 0.4566 - accuracy: 0.7887 - val_loss: 0.4160 - val_accuracy: 0.8138\n",
      "Epoch 3/30\n",
      "532/532 [==============================] - 157s 294ms/step - loss: 0.4297 - accuracy: 0.8029 - val_loss: 0.3975 - val_accuracy: 0.8197\n",
      "Epoch 4/30\n",
      "532/532 [==============================] - 157s 294ms/step - loss: 0.4118 - accuracy: 0.8140 - val_loss: 0.3918 - val_accuracy: 0.8252\n",
      "Epoch 5/30\n",
      "532/532 [==============================] - 156s 293ms/step - loss: 0.4007 - accuracy: 0.8191 - val_loss: 0.3836 - val_accuracy: 0.8292\n",
      "Epoch 6/30\n",
      "532/532 [==============================] - 156s 294ms/step - loss: 0.3902 - accuracy: 0.8250 - val_loss: 0.3777 - val_accuracy: 0.8285\n",
      "Epoch 7/30\n",
      "532/532 [==============================] - 156s 294ms/step - loss: 0.3816 - accuracy: 0.8289 - val_loss: 0.3761 - val_accuracy: 0.8308\n",
      "Epoch 8/30\n",
      "532/532 [==============================] - 158s 297ms/step - loss: 0.3749 - accuracy: 0.8320 - val_loss: 0.3733 - val_accuracy: 0.8320\n",
      "Epoch 9/30\n",
      "532/532 [==============================] - 157s 295ms/step - loss: 0.3681 - accuracy: 0.8372 - val_loss: 0.3702 - val_accuracy: 0.8338\n",
      "Epoch 10/30\n",
      "532/532 [==============================] - 155s 291ms/step - loss: 0.3619 - accuracy: 0.8400 - val_loss: 0.3661 - val_accuracy: 0.8376\n",
      "Epoch 11/30\n",
      "532/532 [==============================] - 156s 294ms/step - loss: 0.3581 - accuracy: 0.8424 - val_loss: 0.3726 - val_accuracy: 0.8347\n",
      "Epoch 12/30\n",
      "532/532 [==============================] - 155s 292ms/step - loss: 0.3530 - accuracy: 0.8445 - val_loss: 0.3687 - val_accuracy: 0.8369\n",
      "Epoch 13/30\n",
      "532/532 [==============================] - 157s 295ms/step - loss: 0.3489 - accuracy: 0.8477 - val_loss: 0.3645 - val_accuracy: 0.8352\n",
      "Epoch 14/30\n",
      "532/532 [==============================] - 155s 290ms/step - loss: 0.3428 - accuracy: 0.8509 - val_loss: 0.3702 - val_accuracy: 0.8393\n",
      "Epoch 15/30\n",
      "532/532 [==============================] - 156s 293ms/step - loss: 0.3377 - accuracy: 0.8536 - val_loss: 0.3656 - val_accuracy: 0.8395\n",
      "Epoch 16/30\n",
      "532/532 [==============================] - 157s 295ms/step - loss: 0.3347 - accuracy: 0.8564 - val_loss: 0.3663 - val_accuracy: 0.8399\n",
      "Epoch 17/30\n",
      "532/532 [==============================] - 158s 296ms/step - loss: 0.3310 - accuracy: 0.8574 - val_loss: 0.3603 - val_accuracy: 0.8403\n",
      "Epoch 18/30\n",
      "532/532 [==============================] - 157s 295ms/step - loss: 0.3279 - accuracy: 0.8584 - val_loss: 0.3643 - val_accuracy: 0.8429\n",
      "Epoch 19/30\n",
      "532/532 [==============================] - 156s 292ms/step - loss: 0.3258 - accuracy: 0.8598 - val_loss: 0.3947 - val_accuracy: 0.8367\n",
      "Epoch 20/30\n",
      "532/532 [==============================] - 156s 293ms/step - loss: 0.3197 - accuracy: 0.8621 - val_loss: 0.3625 - val_accuracy: 0.8415\n",
      "Epoch 21/30\n",
      "532/532 [==============================] - 156s 293ms/step - loss: 0.3168 - accuracy: 0.8637 - val_loss: 0.3647 - val_accuracy: 0.8420\n",
      "Epoch 22/30\n",
      "532/532 [==============================] - 156s 294ms/step - loss: 0.3137 - accuracy: 0.8667 - val_loss: 0.3665 - val_accuracy: 0.8427\n",
      "1537/1537 - 32s - loss: 0.3692 - accuracy: 0.8398\n",
      "Word2Vec 기반 모델 정확도: 0.8398\n"
     ]
    }
   ],
   "source": [
    "import numpy as np\n",
    "from keras.layers import Embedding, LSTM, Dense, Dropout, GlobalMaxPooling1D\n",
    "from keras.models import Sequential\n",
    "from keras.layers import Bidirectional\n",
    "from keras.layers import Attention\n",
    "from keras.layers import Conv1D, MaxPooling1D\n",
    "from tensorflow.keras import regularizers\n",
    "\n",
    "# Word2Vec을 활용한 임베딩 매트릭스 생성\n",
    "embedding_dim = 100  # Word2Vec의 벡터 차원과 동일하게 설정\n",
    "\n",
    "vocab_size = max(word_to_index.values()) + 1  # ✅ word_to_index 내 가장 큰 인덱스 사용\n",
    "embedding_matrix = np.zeros((vocab_size, embedding_dim))\n",
    "\n",
    "for word, i in word_to_index.items():\n",
    "    if word in w2v_model.wv.key_to_index:\n",
    "        embedding_matrix[i] = w2v_model.wv[word]\n",
    "\n",
    "\n",
    "# Word2Vec 기반 Embedding Layer\n",
    "embedding_layer = Embedding(input_dim=vocab_size,\n",
    "                            output_dim=embedding_dim,\n",
    "                            weights=[embedding_matrix],\n",
    "                            trainable=False)  # 학습하지 않고 고정된 사전 학습 벡터 사용\n",
    "\n",
    "# 모델 구성\n",
    "model = Sequential([\n",
    "    embedding_layer,  # Word2Vec 사전 학습된 임베딩 적용\n",
    "    Bidirectional(LSTM(128, return_sequences=True, dropout=0.2, recurrent_dropout=0.2)),  \n",
    "    GlobalMaxPooling1D(),\n",
    "    Dense(128, activation='relu', kernel_regularizer=regularizers.l2(0.01)),\n",
    "    Dropout(0.4),\n",
    "    Dense(1, activation='sigmoid')\n",
    "])\n",
    "\n",
    "# 모델 학습 설정\n",
    "model.compile(optimizer=Adam(learning_rate=0.0005, clipnorm=1.0),\n",
    "              loss='binary_crossentropy',\n",
    "              metrics=['accuracy'])\n",
    "\n",
    "# 모델 학습\n",
    "history = model.fit(partial_x_train, partial_y_train, epochs=30, batch_size=256,\n",
    "                    validation_data=(x_val, y_val), callbacks=[es, mc], verbose=1)\n",
    "\n",
    "# 모델 평가\n",
    "results = model.evaluate(X_test, y_test, verbose=2)\n",
    "print(f\"Word2Vec 기반 모델 정확도: {results[1]:.4f}\")\n"
   ]
  },
  {
   "cell_type": "markdown",
   "id": "40729d8a",
   "metadata": {},
   "source": [
    "아무리 해도 안되네요 실패,,!"
   ]
  },
  {
   "cell_type": "code",
   "execution_count": null,
   "id": "c853afc1",
   "metadata": {},
   "outputs": [],
   "source": []
  },
  {
   "cell_type": "code",
   "execution_count": null,
   "id": "b1d02c96",
   "metadata": {},
   "outputs": [],
   "source": []
  },
  {
   "attachments": {
    "loss_1.png": {
     "image/png": "[encoded data removed]"
    }
   },
   "cell_type": "markdown",
   "id": "9a853dcf",
   "metadata": {},
   "source": [
    "# 회고\n",
    "\n",
    "![loss_1.png](attachment:loss_1.png)"
   ]
  },
  {
   "attachments": {
    "accuracy_!.png": {
     "image/png": "[encoded data removed]"
    }
   },
   "cell_type": "markdown",
   "id": "3bea8be5",
   "metadata": {},
   "source": [
    "![accuracy_!.png](attachment:accuracy_!.png)\n",
    "처음 모델 1개로만 돌렸을 때의 참혹한 결과,,\n",
    "이진분류인데 정확도가 55면,, 그냥 찍는게,,"
   ]
  },
  {
   "cell_type": "markdown",
   "id": "af0967d4",
   "metadata": {},
   "source": [
    "시간이 부족해서 아직 워드투벡터는 시작도 못해봤다.\n",
    "아직 개념이 머리에 확실하지 않아서 내가 원하는대로 코드를 짜고 모델을 사용하는 것에 어려움을 느끼는 것 같다."
   ]
  },
  {
   "cell_type": "code",
   "execution_count": null,
   "id": "f1954ea1",
   "metadata": {},
   "outputs": [],
   "source": []
  }
 ],
 "metadata": {
  "kernelspec": {
   "display_name": "Python 3 (ipykernel)",
   "language": "python",
   "name": "python3"
  },
  "language_info": {
   "codemirror_mode": {
    "name": "ipython",
    "version": 3
   },
   "file_extension": ".py",
   "mimetype": "text/x-python",
   "name": "python",
   "nbconvert_exporter": "python",
   "pygments_lexer": "ipython3",
   "version": "3.9.7"
  }
 },
 "nbformat": 4,
 "nbformat_minor": 5
}
